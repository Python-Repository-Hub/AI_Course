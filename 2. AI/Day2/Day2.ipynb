{
 "cells": [
  {
   "cell_type": "markdown",
   "metadata": {},
   "source": [
    "# PrirorityQueue"
   ]
  },
  {
   "cell_type": "code",
   "execution_count": 2,
   "metadata": {},
   "outputs": [
    {
     "name": "stdout",
     "output_type": "stream",
     "text": [
      "True\n",
      "True\n",
      "True\n",
      "True\n",
      "[5, 'A', False]\n",
      "('A', 5)\n"
     ]
    }
   ],
   "source": [
    "import util\n",
    "\n",
    "pq = util.PriorityQueue()\n",
    "\n",
    "print(pq.update('A', 10))\n",
    "print(pq.update('B', 20))\n",
    "print(pq.update('C', 30))\n",
    "print(pq.update('A', 5))\n",
    "\n",
    "print(pq.heap[0])\n",
    "print(pq.remove_min())"
   ]
  },
  {
   "cell_type": "code",
   "execution_count": 3,
   "metadata": {},
   "outputs": [
    {
     "name": "stdout",
     "output_type": "stream",
     "text": [
      "[[10, 'A', True], [20, 'B', False], [30, 'C', False]]\n"
     ]
    }
   ],
   "source": [
    "print(pq.heap)"
   ]
  },
  {
   "cell_type": "markdown",
   "metadata": {},
   "source": [
    "# lm_unigram.py"
   ]
  },
  {
   "cell_type": "markdown",
   "metadata": {},
   "source": [
    "- 일반"
   ]
  },
  {
   "cell_type": "code",
   "execution_count": 15,
   "metadata": {},
   "outputs": [
    {
     "name": "stdout",
     "output_type": "stream",
     "text": [
      "- Unigram counts -\n",
      "unigram_count[I] = 3\n",
      "unigram_count[am] = 2\n",
      "unigram_count[Sam] = 2\n",
      "unigram_count[do] = 1\n",
      "unigram_count[not] = 1\n",
      "unigram_count[like] = 1\n",
      "unigram_count[green] = 1\n",
      "\n",
      "- Unigram probabilities - \n",
      "P(Sam) = 0.181818\n",
      "P(I) = 0.272727\n",
      "P(green) = 0.090909\n"
     ]
    }
   ],
   "source": [
    "import math, collections\n",
    "\n",
    "\n",
    "corpus = [\n",
    "    'I am Sam',\n",
    "    'Sam I am',\n",
    "    'I do not like green'\n",
    "]\n",
    "\n",
    "# Counting\n",
    "unigram_counts = collections.defaultdict(int)\n",
    "for sentence in corpus:\n",
    "    words = sentence.split()\n",
    "    for word in words:\n",
    "        unigram_counts[word] += 1\n",
    "\n",
    "# Printing unigram counts\n",
    "print('- Unigram counts -')\n",
    "for word in unigram_counts:\n",
    "    print(('unigram_count[%s] = %d'%(word, unigram_counts[word])))\n",
    "\n",
    "# Unigram function\n",
    "def unigram(word):\n",
    "    return float(unigram_counts[word]) / sum(unigram_counts.values())\n",
    "        \n",
    "# Printing results\n",
    "print('\\n- Unigram probabilities - ')\n",
    "print(('P(Sam) = %f'%unigram('Sam')))\n",
    "print(('P(I) = %f'%unigram('I')))\n",
    "print(('P(green) = %f'%unigram('green')))\n"
   ]
  },
  {
   "cell_type": "markdown",
   "metadata": {},
   "source": [
    "- 로그"
   ]
  },
  {
   "cell_type": "code",
   "execution_count": 13,
   "metadata": {},
   "outputs": [
    {
     "name": "stdout",
     "output_type": "stream",
     "text": [
      "- Unigram counts -\n",
      "unigram_count[I] = 3\n",
      "unigram_count[am] = 2\n",
      "unigram_count[Sam] = 2\n",
      "unigram_count[do] = 1\n",
      "unigram_count[not] = 1\n",
      "unigram_count[like] = 1\n",
      "unigram_count[green] = 1\n",
      "\n",
      "- Unigram probabilities - \n",
      "P(Sam) = 1.704748\n",
      "P(I) = 1.299283\n",
      "P(green) = 2.397895\n"
     ]
    }
   ],
   "source": [
    "import math, collections\n",
    "\n",
    "\n",
    "corpus = [\n",
    "    'I am Sam',\n",
    "    'Sam I am',\n",
    "    'I do not like green'\n",
    "]\n",
    "\n",
    "# Counting\n",
    "unigram_counts = collections.defaultdict(int)\n",
    "for sentence in corpus:\n",
    "    words = sentence.split()\n",
    "    for word in words:\n",
    "        unigram_counts[word] += 1\n",
    "\n",
    "# Printing unigram counts\n",
    "print('- Unigram counts -')\n",
    "for word in unigram_counts:\n",
    "    print(('unigram_count[%s] = %d'%(word, unigram_counts[word])))\n",
    "\n",
    "# Unigram function\n",
    "def unigram(word):\n",
    "    return -1*math.log(float(unigram_counts[word]) / sum(unigram_counts.values()))\n",
    "        \n",
    "# Printing results\n",
    "print('\\n- Unigram probabilities - ')\n",
    "print(('P(Sam) = %f'%unigram('Sam')))\n",
    "print(('P(I) = %f'%unigram('I')))\n",
    "print(('P(green) = %f'%unigram('green')))\n"
   ]
  },
  {
   "cell_type": "markdown",
   "metadata": {},
   "source": [
    "# lm_bigram.py"
   ]
  },
  {
   "cell_type": "markdown",
   "metadata": {},
   "source": [
    "- 일반"
   ]
  },
  {
   "cell_type": "code",
   "execution_count": 16,
   "metadata": {},
   "outputs": [
    {
     "name": "stdout",
     "output_type": "stream",
     "text": [
      "\n",
      "- Bigram probabilities - \n",
      "P(I | -BEGIN-) = 0.666667\n",
      "P(Sam | -BEGIN-) = 0.333333\n",
      "P(do | I) = 0.333333\n",
      "green | like) = 1.000000\n"
     ]
    }
   ],
   "source": [
    "import math, collections\n",
    "\n",
    "\n",
    "SENTENCE_BEGIN = '-BEGIN-'\n",
    "\n",
    "corpus = [\n",
    "    'I am Sam',\n",
    "    'Sam I am',\n",
    "    'I do not like green'\n",
    "]\n",
    "    \n",
    "# Counting\n",
    "unigram_counts = collections.defaultdict(int)\n",
    "for sentence in corpus:\n",
    "    words = [SENTENCE_BEGIN] + sentence.split()\n",
    "    for word in words:\n",
    "        unigram_counts[word] += 1\n",
    "\n",
    "bigram_counts = collections.defaultdict(int)\n",
    "for sentence in corpus:\n",
    "    words = [SENTENCE_BEGIN] + sentence.split()\n",
    "    for i in range(len(words)-1):\n",
    "        bigram_counts[(words[i], words[i+1])] += 1\n",
    "        \n",
    "# Bigram function\n",
    "def bigram(prev_word, curr_word):\n",
    "    return float(bigram_counts[(prev_word, curr_word)]) / unigram_counts[prev_word]\n",
    "\n",
    "# Printing results\n",
    "print('\\n- Bigram probabilities - ')\n",
    "print(('P(I | -BEGIN-) = %f'%bigram(SENTENCE_BEGIN, 'I')))    \n",
    "print(('P(Sam | -BEGIN-) = %f'%bigram(SENTENCE_BEGIN, 'Sam')))    \n",
    "print(('P(do | I) = %f'%bigram('I', 'do')))\n",
    "print(('green | like) = %f'%bigram('like', 'green')))\n"
   ]
  },
  {
   "cell_type": "markdown",
   "metadata": {},
   "source": [
    "- 로그"
   ]
  },
  {
   "cell_type": "code",
   "execution_count": 14,
   "metadata": {},
   "outputs": [
    {
     "name": "stdout",
     "output_type": "stream",
     "text": [
      "\n",
      "- Bigram probabilities - \n",
      "P(I | -BEGIN-) = 0.405465\n",
      "P(Sam | -BEGIN-) = 1.098612\n",
      "P(do | I) = 1.098612\n",
      "green | like) = -0.000000\n"
     ]
    }
   ],
   "source": [
    "import math, collections\n",
    "\n",
    "\n",
    "SENTENCE_BEGIN = '-BEGIN-'\n",
    "\n",
    "corpus = [\n",
    "    'I am Sam',\n",
    "    'Sam I am',\n",
    "    'I do not like green'\n",
    "]\n",
    "    \n",
    "# Counting\n",
    "unigram_counts = collections.defaultdict(int)\n",
    "for sentence in corpus:\n",
    "    words = [SENTENCE_BEGIN] + sentence.split()\n",
    "    for word in words:\n",
    "        unigram_counts[word] += 1\n",
    "\n",
    "bigram_counts = collections.defaultdict(int)\n",
    "for sentence in corpus:\n",
    "    words = [SENTENCE_BEGIN] + sentence.split()\n",
    "    for i in range(len(words)-1):\n",
    "        bigram_counts[(words[i], words[i+1])] += 1\n",
    "        \n",
    "# Bigram function\n",
    "def bigram(prev_word, curr_word):\n",
    "    return -1*math.log(float(bigram_counts[(prev_word, curr_word)]) / unigram_counts[prev_word])\n",
    "\n",
    "# Printing results\n",
    "print('\\n- Bigram probabilities - ')\n",
    "print(('P(I | -BEGIN-) = %f'%bigram(SENTENCE_BEGIN, 'I')))    \n",
    "print(('P(Sam | -BEGIN-) = %f'%bigram(SENTENCE_BEGIN, 'Sam')))    \n",
    "print(('P(do | I) = %f'%bigram('I', 'do')))\n",
    "print(('green | like) = %f'%bigram('like', 'green')))\n"
   ]
  },
  {
   "cell_type": "code",
   "execution_count": null,
   "metadata": {},
   "outputs": [],
   "source": []
  }
 ],
 "metadata": {
  "kernelspec": {
   "display_name": "Python 3",
   "language": "python",
   "name": "python3"
  },
  "language_info": {
   "codemirror_mode": {
    "name": "ipython",
    "version": 3
   },
   "file_extension": ".py",
   "mimetype": "text/x-python",
   "name": "python",
   "nbconvert_exporter": "python",
   "pygments_lexer": "ipython3",
   "version": "3.8.5"
  }
 },
 "nbformat": 4,
 "nbformat_minor": 4
}
