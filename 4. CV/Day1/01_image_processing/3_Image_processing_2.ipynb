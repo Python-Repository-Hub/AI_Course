{
 "cells": [
  {
   "cell_type": "code",
   "execution_count": null,
   "metadata": {},
   "outputs": [],
   "source": [
    "%matplotlib inline\n",
    "import numpy as np\n",
    "import cv2\n",
    "import matplotlib.pyplot as plt"
   ]
  },
  {
   "cell_type": "code",
   "execution_count": null,
   "metadata": {},
   "outputs": [],
   "source": [
    "data_path = \"./data/\""
   ]
  },
  {
   "cell_type": "code",
   "execution_count": null,
   "metadata": {},
   "outputs": [],
   "source": [
    "img = cv2.imread(data_path + \"lena.jpg\")\n",
    "gray_img = cv2.imread(data_path + \"lena.jpg\", 0)\n",
    "img = cv2.cvtColor(img, cv2.COLOR_BGR2RGB)\n",
    "plt.imshow(img)"
   ]
  },
  {
   "cell_type": "markdown",
   "metadata": {},
   "source": [
    "# Image Filtering "
   ]
  },
  {
   "cell_type": "markdown",
   "metadata": {},
   "source": [
    "#### cv2.filter2D(img, ddepth, kernel)"
   ]
  },
  {
   "cell_type": "code",
   "execution_count": null,
   "metadata": {},
   "outputs": [],
   "source": [
    "k = np.ones((3,3), np.uint8)\n",
    "k = k/(3*3)\n",
    "k"
   ]
  },
  {
   "cell_type": "code",
   "execution_count": null,
   "metadata": {},
   "outputs": [],
   "source": [
    "blur_dst = cv2.filter2D(img, -1, k)\n",
    "plt.imshow(blur_dst) "
   ]
  },
  {
   "cell_type": "code",
   "execution_count": null,
   "metadata": {},
   "outputs": [],
   "source": [
    "# to do : make blur func\n",
    "def blur_func(img, f_size):\n",
    "    new_h, new_w = img.shape[:2]\n",
    "    new_h -= (f_size//2)*2\n",
    "    new_w -= (f_size//2)*2\n",
    "    new_img = np.zeros((new_h,new_w,3), np.uint8)\n",
    "    \n",
    "    k = np.ones((f_size,f_size, 3), np.uint8)\n",
    "    k = k/(f_size*f_size)\n",
    "    \n",
    "    for i in range(new_w):\n",
    "        for j in range(new_h):\n",
    "            new_value = img[i:i+f_size,j:j+f_size,:] * k\n",
    "            new_value = new_value.sum(axis=0).sum(axis=0)\n",
    "            new_img[i,j] = new_value.astype('uint8')\n",
    "            \n",
    "    plt.imshow(new_img)"
   ]
  },
  {
   "cell_type": "code",
   "execution_count": null,
   "metadata": {},
   "outputs": [],
   "source": [
    "blur_func(img, 15)"
   ]
  },
  {
   "cell_type": "markdown",
   "metadata": {},
   "source": [
    "#### motion blur"
   ]
  },
  {
   "cell_type": "code",
   "execution_count": null,
   "metadata": {},
   "outputs": [],
   "source": [
    "size=30\n",
    "motion_blur = np.zeros((size, size))\n",
    "motion_blur[int((size-1)/2), :] = np.ones(size)\n",
    "motion_blur = motion_blur / size\n",
    "\n",
    "dst = cv2.filter2D(img, -1, motion_blur)\n",
    "plt.imshow(dst)"
   ]
  },
  {
   "cell_type": "markdown",
   "metadata": {},
   "source": [
    "#### Sharpening"
   ]
  },
  {
   "cell_type": "code",
   "execution_count": null,
   "metadata": {},
   "outputs": [],
   "source": [
    "sharpening_1 = np.array([[-1, -1, -1], [-1, 9, -1], [-1, -1, -1]])\n",
    "sharpening_2 = np.array([[-1, -1, -1, -1, -1],\n",
    "                         [-1, 2, 2, 2, -1],\n",
    "                         [-1, 2, 9, 2, -1],\n",
    "                         [-1, 2, 2, 2, -1],\n",
    "                         [-1, -1, -1, -1, -1]]) / 9.0\n",
    "\n",
    "fig, (ax1, ax2) = plt.subplots(nrows=1, ncols=2, figsize= (16,8))\n",
    "dst1 = cv2.filter2D(img, -1, sharpening_1)\n",
    "ax1.imshow(dst1)\n",
    "\n",
    "dst2 = cv2.filter2D(img, -1, sharpening_2)\n",
    "ax2.imshow(dst2)"
   ]
  },
  {
   "cell_type": "code",
   "execution_count": null,
   "metadata": {},
   "outputs": [],
   "source": [
    "# to do : sharpening"
   ]
  },
  {
   "cell_type": "markdown",
   "metadata": {},
   "source": [
    "## < Blurring >"
   ]
  },
  {
   "cell_type": "markdown",
   "metadata": {},
   "source": [
    "#### cv2.Blur(img, ksize)\n",
    "#### cv2.GaussianBlur(img, ksize, sigma)\n",
    "#### cv2.medianBlur(img, ksize)\n",
    "#### cv2.bilateralFilter(src, d, sigmaColor, sigmaSpace)"
   ]
  },
  {
   "cell_type": "code",
   "execution_count": null,
   "metadata": {},
   "outputs": [],
   "source": [
    "dst1 = cv2.blur(img,(7,7))\n",
    "dst2 = cv2.GaussianBlur(img,(5,5),0)\n",
    "dst3 = cv2.medianBlur(img,9)\n",
    "dst4 = cv2.bilateralFilter(img,9,75,75)\n",
    "\n",
    "images = [img,dst1,dst2,dst3,dst4]\n",
    "\n",
    "fig, ((ax1, ax2, ax3), (ax4,ax5, _)) = plt.subplots(nrows=2, ncols=3, figsize =(20,20))\n",
    "axs = [ax1, ax2, ax3, ax4, ax5]\n",
    "\n",
    "for i in range(5):\n",
    "    axs[i].imshow(images[i])\n",
    "\n",
    "plt.show()"
   ]
  },
  {
   "cell_type": "code",
   "execution_count": null,
   "metadata": {},
   "outputs": [],
   "source": []
  }
 ],
 "metadata": {
  "kernelspec": {
   "display_name": "Python 3",
   "language": "python",
   "name": "python3"
  },
  "language_info": {
   "codemirror_mode": {
    "name": "ipython",
    "version": 3
   },
   "file_extension": ".py",
   "mimetype": "text/x-python",
   "name": "python",
   "nbconvert_exporter": "python",
   "pygments_lexer": "ipython3",
   "version": "3.7.9"
  }
 },
 "nbformat": 4,
 "nbformat_minor": 4
}
