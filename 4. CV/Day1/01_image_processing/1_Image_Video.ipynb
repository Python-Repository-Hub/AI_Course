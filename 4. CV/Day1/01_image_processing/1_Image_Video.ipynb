{
 "cells": [
  {
   "cell_type": "markdown",
   "metadata": {},
   "source": [
    "# Basic Computer Vision"
   ]
  },
  {
   "cell_type": "code",
   "execution_count": null,
   "metadata": {},
   "outputs": [],
   "source": [
    "import cv2\n",
    "import numpy as np"
   ]
  },
  {
   "cell_type": "code",
   "execution_count": null,
   "metadata": {},
   "outputs": [],
   "source": [
    "cv2.__version__"
   ]
  },
  {
   "cell_type": "markdown",
   "metadata": {},
   "source": [
    "## < Getting Started with Images >"
   ]
  },
  {
   "cell_type": "markdown",
   "metadata": {},
   "source": [
    "### (1) Read Image"
   ]
  },
  {
   "cell_type": "markdown",
   "metadata": {},
   "source": [
    "#### cv2.imread(filename, flag)\n",
    "\n",
    "- flag\n",
    "    \n",
    "cv2.IMREAD_COLOR : Loads a color image. (1) \n",
    "    \n",
    "cv2.IMREAD_GRAYSCALE : Loads image in grayscale mode (0)\n",
    "    "
   ]
  },
  {
   "cell_type": "code",
   "execution_count": null,
   "metadata": {},
   "outputs": [],
   "source": [
    "#img = cv2.imread(\"./data/opencv-4.1-feature-image.png\", cv2.IMREAD_COLOR)\n",
    "img = cv2.imread(\"./data/opencv-4.1-feature-image.png\")\n",
    "# img = cv2.imread(\"https://opencv.org/wp-content/uploads/2019/04/opencv-4.1-feature-image.png\", 1)"
   ]
  },
  {
   "cell_type": "markdown",
   "metadata": {},
   "source": [
    "### (2) Display Image"
   ]
  },
  {
   "cell_type": "markdown",
   "metadata": {},
   "source": [
    "#### cv2.imshow(window title, array)\n",
    "Display an image in a window\n",
    "\n",
    "#### cv2.waitKey(delay)\n",
    "Waits for specified milliseconds for any keyboard event\n",
    "\n",
    "#### cv2.destroyAllWindows()\n",
    "Destroys all the windows created"
   ]
  },
  {
   "cell_type": "code",
   "execution_count": null,
   "metadata": {},
   "outputs": [],
   "source": [
    "#cv2.imshow('image', img)\n",
    "#k = cv2.waitKey(0)\n",
    "#if k == 27:         # wait for ESC key to exit\n",
    "#    cv2.destroyAllWindows()"
   ]
  },
  {
   "cell_type": "markdown",
   "metadata": {},
   "source": [
    "#### Using Matplotlib\n",
    "Matplotlib is a plotting library for Python which gives you wide variety of plotting methods."
   ]
  },
  {
   "cell_type": "code",
   "execution_count": null,
   "metadata": {},
   "outputs": [],
   "source": [
    "%matplotlib inline\n",
    "import matplotlib.pyplot as plt"
   ]
  },
  {
   "cell_type": "code",
   "execution_count": null,
   "metadata": {},
   "outputs": [],
   "source": [
    "cvt_img = cv2.cvtColor(img, cv2.COLOR_BGR2RGB)\n",
    "plt.imshow(cvt_img)\n",
    "#plt.imshow(img)\n",
    "#plt.xticks([]), plt.yticks([])  # to hide tick values on X and Y axis\n",
    "plt.show()"
   ]
  },
  {
   "cell_type": "code",
   "execution_count": null,
   "metadata": {},
   "outputs": [],
   "source": [
    "print(cvt_img.shape)\n",
    "print(cvt_img.size)\n",
    "print(cvt_img.dtype)"
   ]
  },
  {
   "cell_type": "code",
   "execution_count": null,
   "metadata": {},
   "outputs": [],
   "source": [
    "#to do\n",
    "\n",
    "#cvt_img[y축,x축] -> output : [red, green, blue]\n",
    "#print(\"red pixel :\", red_pixel)\n",
    "#print(\"green pixel :\", green_pixel)\n",
    "#print(\"blue pixel :\", blue_pixel)\n",
    "#print(\"white pixel :\", white_pixel)\n",
    "#print(\"black pixel :\", black_pixel)"
   ]
  },
  {
   "cell_type": "markdown",
   "metadata": {},
   "source": [
    "### (3) Drawing Function"
   ]
  },
  {
   "cell_type": "markdown",
   "metadata": {},
   "source": [
    "Drawing Functions have some common arguments as given below:\n",
    "\n",
    "- img : The image where you want to draw the shapes\n",
    "- color : Color of the shape. For grayscale, just pass the scalar value.\n",
    "- thickness : Thickness of the line or circle etc.\n",
    "- lineType : Type of line"
   ]
  },
  {
   "cell_type": "code",
   "execution_count": null,
   "metadata": {},
   "outputs": [],
   "source": [
    "white_img = np.full((512, 512, 3), 255, np.uint8)\n",
    "# white_img = np.zeros((512, 512, 3), np.uint8)\n",
    "# white_img += 255\n",
    "\n",
    "plt.imshow(white_img)"
   ]
  },
  {
   "cell_type": "markdown",
   "metadata": {},
   "source": [
    "#### cv2.line(img, start, end, color, thickness)"
   ]
  },
  {
   "cell_type": "code",
   "execution_count": null,
   "metadata": {},
   "outputs": [],
   "source": [
    "drawing_img = np.full((512, 512, 3), 255, np.uint8)\n",
    "cv2.line(drawing_img, (200, 0), (511, 511), (0, 255, 0), 10)\n",
    "plt.imshow(drawing_img)"
   ]
  },
  {
   "cell_type": "markdown",
   "metadata": {},
   "source": [
    "#### cv2.rectangle(img, start, end, color, thickness)"
   ]
  },
  {
   "cell_type": "code",
   "execution_count": null,
   "metadata": {},
   "outputs": [],
   "source": [
    "drawing_img = np.full((512, 512, 3), 255, np.uint8)\n",
    "cv2.rectangle(drawing_img, (30, 30), (100, 200), (255, 0, 0), 10)\n",
    "plt.imshow(drawing_img)"
   ]
  },
  {
   "cell_type": "markdown",
   "metadata": {},
   "source": [
    "#### cv2.circle(img, center, radian, color, thickness)"
   ]
  },
  {
   "cell_type": "code",
   "execution_count": null,
   "metadata": {},
   "outputs": [],
   "source": [
    "drawing_img = np.full((512, 512, 3), 255, np.uint8)\n",
    "cv2.circle(drawing_img, (256, 256), 100, (0, 0, 255), 10)\n",
    "plt.imshow(drawing_img)"
   ]
  },
  {
   "cell_type": "markdown",
   "metadata": {},
   "source": [
    "#### cv2.putText(img, text, org, font, fontSacle, color)"
   ]
  },
  {
   "cell_type": "code",
   "execution_count": null,
   "metadata": {},
   "outputs": [],
   "source": [
    "drawing_img = np.full((512, 512, 3), 255, np.uint8)\n",
    "cv2.putText(drawing_img, 'Hello', (10,200), cv2.FONT_HERSHEY_SIMPLEX, 2, (255,0,0),5)\n",
    "cv2.putText(drawing_img, 'OpenCV', (10,300), cv2.FONT_HERSHEY_SIMPLEX, 4, (0,0,0),5)\n",
    "plt.imshow(drawing_img)"
   ]
  },
  {
   "cell_type": "markdown",
   "metadata": {},
   "source": [
    "### (4) Save Image "
   ]
  },
  {
   "cell_type": "markdown",
   "metadata": {},
   "source": [
    "#### cv2.imwrite(filename, image)\n",
    "Use the function cv.imwrite() to save an image"
   ]
  },
  {
   "cell_type": "code",
   "execution_count": null,
   "metadata": {},
   "outputs": [],
   "source": [
    "drawing_img = cv2.cvtColor(drawing_img, cv2.COLOR_RGB2BGR)\n",
    "cv2.imwrite('HelloOpenCV.jpg', drawing_img)"
   ]
  },
  {
   "cell_type": "code",
   "execution_count": null,
   "metadata": {},
   "outputs": [],
   "source": [
    "player_img_color = cv2.imread('./data/soccer_player.jpg', 1)\n",
    "# player_img_color = cv2.imread('https://i.ytimg.com/vi/wdufu2MKz7Q/hqdefault.jpg', 1)\n",
    "player_img_color = cv2.cvtColor(player_img_color, cv2.COLOR_BGR2RGB)\n",
    "plt.imshow(player_img_color)"
   ]
  },
  {
   "cell_type": "code",
   "execution_count": null,
   "metadata": {},
   "outputs": [],
   "source": [
    "# <to do>\n",
    "# 1. read image by grayscale\n",
    "# 2. Draw rectangle and Text around player face\n",
    "# 3. save image\n"
   ]
  },
  {
   "cell_type": "code",
   "execution_count": null,
   "metadata": {},
   "outputs": [],
   "source": [
    "gray_img = cv2.imread(\"data/soccer_player_gray.jpg\")\n",
    "plt.imshow(gray_img)"
   ]
  },
  {
   "cell_type": "markdown",
   "metadata": {},
   "source": [
    "## < Getting Started with Videos >"
   ]
  },
  {
   "cell_type": "markdown",
   "metadata": {},
   "source": [
    "#### cv2.VideoCaputer(filename or device index)\n",
    "Create a VideoCapture object to capture a video.\n",
    "\n",
    "Device index is just the number to specify which camera."
   ]
  },
  {
   "cell_type": "markdown",
   "metadata": {},
   "source": [
    "#### cap.get(propId) \n",
    "Access some of the features of this video"
   ]
  },
  {
   "cell_type": "code",
   "execution_count": null,
   "metadata": {},
   "outputs": [],
   "source": [
    "cap = cv2.VideoCapture(\"./data/Megamind.AVI\")\n",
    "# cap = cv2.VideoCapture(\"http://technical-recipes.com/Downloads/SAMPLE.AVI\")\n",
    "videoWidth = cap.get(cv2.CAP_PROP_FRAME_WIDTH)\n",
    "videoHeight = cap.get(cv2.CAP_PROP_FRAME_HEIGHT)\n",
    "frameCount = cap.get(cv2.CAP_PROP_FRAME_COUNT)\n",
    "fps = cap.get(cv2.CAP_PROP_FPS)\n",
    "\n",
    "print(\"width :\", videoWidth)\n",
    "print(\"height :\", videoHeight)\n",
    "print(\"frame count :\", frameCount)\n",
    "print(\"fps :\", fps)"
   ]
  },
  {
   "cell_type": "markdown",
   "metadata": {},
   "source": [
    "#### cv2.VideoWriter(outputFile, fourcc, frame, size)\n",
    "Create a VideoWriter object to write a video.\n",
    "\n",
    "- outputFile (str) – file name \n",
    "- fourcc – Codec information. cv2.VideoWriter_fourcc()\n",
    "- frame (float) – frame\n",
    "- size (list) – size (ex; 640, 480)"
   ]
  },
  {
   "cell_type": "code",
   "execution_count": null,
   "metadata": {},
   "outputs": [],
   "source": [
    "fourcc =  cv2.VideoWriter_fourcc(*'DIVX')\n",
    "size = (int(videoWidth/2), int(videoHeight/2))\n",
    "print(size)\n",
    "out = cv2.VideoWriter('output.avi', fourcc, 24, size)"
   ]
  },
  {
   "cell_type": "code",
   "execution_count": null,
   "metadata": {},
   "outputs": [],
   "source": [
    "while cap.isOpened():\n",
    "    ret, frame = cap.read()\n",
    "    # if frame is read correctly ret is True\n",
    "    if not ret:\n",
    "        print(\"Can't receive frame (stream end?). Exiting ...\")\n",
    "        break\n",
    "        \n",
    "    frame = cv2.resize(frame, size)\n",
    "    frame = cv2.flip(frame, 0)\n",
    "    cv2.rectangle(frame, (30, 30), (100, 100), (255, 0, 0), 5)\n",
    "    out.write(frame)\n",
    "    \n",
    "cap.release()\n",
    "out.release()"
   ]
  },
  {
   "cell_type": "code",
   "execution_count": null,
   "metadata": {},
   "outputs": [],
   "source": []
  }
 ],
 "metadata": {
  "kernelspec": {
   "display_name": "Python 3",
   "language": "python",
   "name": "python3"
  },
  "language_info": {
   "codemirror_mode": {
    "name": "ipython",
    "version": 3
   },
   "file_extension": ".py",
   "mimetype": "text/x-python",
   "name": "python",
   "nbconvert_exporter": "python",
   "pygments_lexer": "ipython3",
   "version": "3.7.9"
  }
 },
 "nbformat": 4,
 "nbformat_minor": 4
}
