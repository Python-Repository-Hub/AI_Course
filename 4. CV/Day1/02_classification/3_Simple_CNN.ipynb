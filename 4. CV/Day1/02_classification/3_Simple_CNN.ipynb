{
 "cells": [
  {
   "cell_type": "markdown",
   "metadata": {},
   "source": [
    "## 3.1 Simple CNN\n",
    "이번 실습은 classifier 역할을 하는 DNN 앞에, feature extractor 역할을 하는 Covolution layer를 및 Maxplling layer를 덧붙여\n",
    "\n",
    "CNN 모델을 만들고 학습시켜 볼 것이다."
   ]
  },
  {
   "cell_type": "code",
   "execution_count": 1,
   "metadata": {},
   "outputs": [],
   "source": [
    "from keras.utils import np_utils\n",
    "from keras import datasets\n",
    "from keras.models import Sequential, Model\n",
    "from keras.layers import Input, Dense, Activation\n",
    "\n",
    "import os\n",
    "import numpy as np\n",
    "import matplotlib.pyplot as plt\n",
    "%matplotlib inline"
   ]
  },
  {
   "cell_type": "markdown",
   "metadata": {},
   "source": [
    "## (1) 데이터셋"
   ]
  },
  {
   "cell_type": "code",
   "execution_count": 2,
   "metadata": {},
   "outputs": [
    {
     "name": "stdout",
     "output_type": "stream",
     "text": [
      "(60000, 28, 28) (60000,)\n"
     ]
    }
   ],
   "source": [
    "(X_train, Y_train),(X_test, Y_test) = datasets.mnist.load_data()\n",
    "print(X_train.shape, Y_train.shape)"
   ]
  },
  {
   "cell_type": "markdown",
   "metadata": {},
   "source": [
    "MNIST 데이터는 load했을 때 channel이 없기 때문에 channel을 추가하여 3차원 이미지로 바꿔주어야 함(batch차원 제외)\n",
    "\n",
    "Tensorflow base에서는 (batch, image row, image column, image channel)으로 이미지를 학습\n",
    "\n",
    "Teano base에서는 (batch, image channel, image row, image column)으로 이미지를 학습\n",
    "\n",
    "backend.image_data_format()로 channel의 위치를 확인하고 reshape\n"
   ]
  },
  {
   "cell_type": "code",
   "execution_count": 3,
   "metadata": {},
   "outputs": [
    {
     "data": {
      "text/plain": [
       "'channels_last'"
      ]
     },
     "execution_count": 3,
     "metadata": {},
     "output_type": "execute_result"
    }
   ],
   "source": [
    "from keras import backend\n",
    "backend.image_data_format()"
   ]
  },
  {
   "cell_type": "code",
   "execution_count": 4,
   "metadata": {},
   "outputs": [
    {
     "name": "stdout",
     "output_type": "stream",
     "text": [
      "(60000, 28, 28, 1) (60000, 10)\n"
     ]
    }
   ],
   "source": [
    "X_train = X_train.reshape(X_train.shape[0], X_train.shape[1], X_train.shape[2], 1)\n",
    "X_test = X_test.reshape(X_test.shape[0], X_test.shape[1], X_test.shape[2], 1)\n",
    "\n",
    "Y_train = np_utils.to_categorical(Y_train)\n",
    "Y_test = np_utils.to_categorical(Y_test)\n",
    "\n",
    "print(X_train.shape, Y_train.shape)\n",
    "\n",
    "n_in = X_train.shape[1:]\n",
    "n_out = Y_train.shape[-1]"
   ]
  },
  {
   "cell_type": "markdown",
   "metadata": {},
   "source": [
    "## (2) 모델링"
   ]
  },
  {
   "cell_type": "markdown",
   "metadata": {},
   "source": [
    "<사용되는 Layer>\n",
    "\n",
    "`Conv2D` : 이미지에 필터의 파라미터를 convolution 연산하여 다음 layer로 전달\n",
    "\n",
    "https://keras.io/layers/convolutional/#conv2d\n",
    "\n",
    "`MaxPooling2D` : 필터에 겹치는 값들 중 가장 큰 값만 다음 layer로 전달\n",
    "\n",
    "https://keras.io/layers/pooling/#maxpooling2d\n",
    "\n",
    "`BatchNormalization` : activation에 입력되기 전 데이터를 가우시안 분포로 정규화하여 학습 안정화\n",
    "\n",
    "https://keras.io/layers/normalization/#batchnormalization\n",
    "\n",
    "`Dropout` : 일부 뉴런을 drop하여 overfitting을 방지\n",
    "\n",
    "https://keras.io/layers/core/#dropout\n",
    "    \n",
    "보통 batchnormalization, dropout은 동시에 사용하지 않음\n",
    "\n",
    "`Flatten` : 다차원 tensor를 1차원 벡터로 변환\n",
    "\n",
    "https://keras.io/layers/core/#flatten"
   ]
  },
  {
   "cell_type": "code",
   "execution_count": 5,
   "metadata": {},
   "outputs": [],
   "source": [
    "from keras.layers import Flatten, BatchNormalization, Dropout, ReLU\n",
    "from keras.layers.convolutional import Conv2D\n",
    "from keras.layers.convolutional import MaxPooling2D"
   ]
  },
  {
   "cell_type": "code",
   "execution_count": 6,
   "metadata": {},
   "outputs": [],
   "source": [
    "def CNN(n_in, n_out):\n",
    "    model = Sequential()\n",
    "    model.add(Conv2D(16, kernel_size=(3, 3), padding='same', activation='relu', input_shape=n_in))\n",
    "    model.add(Conv2D(32, (3, 3), padding='same',strides=(2, 2), activation='relu'))\n",
    "    model.add(MaxPooling2D(pool_size=(2, 2)))\n",
    "    model.add(Flatten())\n",
    "    model.add(Dense(128, activation='relu'))\n",
    "    model.add(Dense(n_out, activation='softmax'))\n",
    "    return model\n",
    "\n",
    "def CNN_BN(n_in, n_out):\n",
    "    model = Sequential()\n",
    "    model.add(Conv2D(16, kernel_size=(3, 3), padding='same', input_shape=n_in))\n",
    "    model.add(BatchNormalization())\n",
    "    model.add(ReLU())\n",
    "    model.add(Conv2D(32, (3, 3), padding='same',strides=(2, 2)))\n",
    "    model.add(MaxPooling2D(pool_size=(2, 2)))\n",
    "    model.add(BatchNormalization())\n",
    "    model.add(ReLU())\n",
    "    model.add(Flatten())\n",
    "    model.add(Dense(128))\n",
    "    model.add(BatchNormalization())\n",
    "    model.add(ReLU())\n",
    "    model.add(Dense(n_out, activation='softmax'))\n",
    "    return model"
   ]
  },
  {
   "cell_type": "code",
   "execution_count": 7,
   "metadata": {},
   "outputs": [
    {
     "name": "stdout",
     "output_type": "stream",
     "text": [
      "Model: \"sequential\"\n",
      "_________________________________________________________________\n",
      "Layer (type)                 Output Shape              Param #   \n",
      "=================================================================\n",
      "conv2d (Conv2D)              (None, 28, 28, 16)        160       \n",
      "_________________________________________________________________\n",
      "batch_normalization (BatchNo (None, 28, 28, 16)        64        \n",
      "_________________________________________________________________\n",
      "re_lu (ReLU)                 (None, 28, 28, 16)        0         \n",
      "_________________________________________________________________\n",
      "conv2d_1 (Conv2D)            (None, 14, 14, 32)        4640      \n",
      "_________________________________________________________________\n",
      "max_pooling2d (MaxPooling2D) (None, 7, 7, 32)          0         \n",
      "_________________________________________________________________\n",
      "batch_normalization_1 (Batch (None, 7, 7, 32)          128       \n",
      "_________________________________________________________________\n",
      "re_lu_1 (ReLU)               (None, 7, 7, 32)          0         \n",
      "_________________________________________________________________\n",
      "flatten (Flatten)            (None, 1568)              0         \n",
      "_________________________________________________________________\n",
      "dense (Dense)                (None, 128)               200832    \n",
      "_________________________________________________________________\n",
      "batch_normalization_2 (Batch (None, 128)               512       \n",
      "_________________________________________________________________\n",
      "re_lu_2 (ReLU)               (None, 128)               0         \n",
      "_________________________________________________________________\n",
      "dense_1 (Dense)              (None, 10)                1290      \n",
      "=================================================================\n",
      "Total params: 207,626\n",
      "Trainable params: 207,274\n",
      "Non-trainable params: 352\n",
      "_________________________________________________________________\n"
     ]
    }
   ],
   "source": [
    "model=CNN_BN(n_in, n_out)\n",
    "model.summary()"
   ]
  },
  {
   "cell_type": "code",
   "execution_count": 8,
   "metadata": {
    "scrolled": true
   },
   "outputs": [
    {
     "data": {
      "image/svg+xml": [
       "<svg height=\"1401pt\" viewBox=\"0.00 0.00 405.00 1051.00\" width=\"540pt\" xmlns=\"http://www.w3.org/2000/svg\" xmlns:xlink=\"http://www.w3.org/1999/xlink\">\n",
       "<g class=\"graph\" id=\"graph0\" transform=\"scale(1.33 1.33) rotate(0) translate(4 1047)\">\n",
       "<title>G</title>\n",
       "<polygon fill=\"white\" points=\"-4,4 -4,-1047 401,-1047 401,4 -4,4\" stroke=\"transparent\"/>\n",
       "<!-- 1975380790344 -->\n",
       "<g class=\"node\" id=\"node1\">\n",
       "<title>1975380790344</title>\n",
       "<polygon fill=\"none\" points=\"41.5,-996.5 41.5,-1042.5 355.5,-1042.5 355.5,-996.5 41.5,-996.5\" stroke=\"black\"/>\n",
       "<text font-family=\"Times New Roman,serif\" font-size=\"14.00\" text-anchor=\"middle\" x=\"122\" y=\"-1015.8\">conv2d_input: InputLayer</text>\n",
       "<polyline fill=\"none\" points=\"202.5,-996.5 202.5,-1042.5 \" stroke=\"black\"/>\n",
       "<text font-family=\"Times New Roman,serif\" font-size=\"14.00\" text-anchor=\"middle\" x=\"230.5\" y=\"-1027.3\">input:</text>\n",
       "<polyline fill=\"none\" points=\"202.5,-1019.5 258.5,-1019.5 \" stroke=\"black\"/>\n",
       "<text font-family=\"Times New Roman,serif\" font-size=\"14.00\" text-anchor=\"middle\" x=\"230.5\" y=\"-1004.3\">output:</text>\n",
       "<polyline fill=\"none\" points=\"258.5,-996.5 258.5,-1042.5 \" stroke=\"black\"/>\n",
       "<text font-family=\"Times New Roman,serif\" font-size=\"14.00\" text-anchor=\"middle\" x=\"307\" y=\"-1027.3\">[(?, 28, 28, 1)]</text>\n",
       "<polyline fill=\"none\" points=\"258.5,-1019.5 355.5,-1019.5 \" stroke=\"black\"/>\n",
       "<text font-family=\"Times New Roman,serif\" font-size=\"14.00\" text-anchor=\"middle\" x=\"307\" y=\"-1004.3\">[(?, 28, 28, 1)]</text>\n",
       "</g>\n",
       "<!-- 1975380661960 -->\n",
       "<g class=\"node\" id=\"node2\">\n",
       "<title>1975380661960</title>\n",
       "<polygon fill=\"none\" points=\"66.5,-913.5 66.5,-959.5 330.5,-959.5 330.5,-913.5 66.5,-913.5\" stroke=\"black\"/>\n",
       "<text font-family=\"Times New Roman,serif\" font-size=\"14.00\" text-anchor=\"middle\" x=\"123\" y=\"-932.8\">conv2d: Conv2D</text>\n",
       "<polyline fill=\"none\" points=\"179.5,-913.5 179.5,-959.5 \" stroke=\"black\"/>\n",
       "<text font-family=\"Times New Roman,serif\" font-size=\"14.00\" text-anchor=\"middle\" x=\"207.5\" y=\"-944.3\">input:</text>\n",
       "<polyline fill=\"none\" points=\"179.5,-936.5 235.5,-936.5 \" stroke=\"black\"/>\n",
       "<text font-family=\"Times New Roman,serif\" font-size=\"14.00\" text-anchor=\"middle\" x=\"207.5\" y=\"-921.3\">output:</text>\n",
       "<polyline fill=\"none\" points=\"235.5,-913.5 235.5,-959.5 \" stroke=\"black\"/>\n",
       "<text font-family=\"Times New Roman,serif\" font-size=\"14.00\" text-anchor=\"middle\" x=\"283\" y=\"-944.3\">(?, 28, 28, 1)</text>\n",
       "<polyline fill=\"none\" points=\"235.5,-936.5 330.5,-936.5 \" stroke=\"black\"/>\n",
       "<text font-family=\"Times New Roman,serif\" font-size=\"14.00\" text-anchor=\"middle\" x=\"283\" y=\"-921.3\">(?, 28, 28, 16)</text>\n",
       "</g>\n",
       "<!-- 1975380790344&#45;&gt;1975380661960 -->\n",
       "<g class=\"edge\" id=\"edge1\">\n",
       "<title>1975380790344-&gt;1975380661960</title>\n",
       "<path d=\"M198.5,-996.37C198.5,-988.15 198.5,-978.66 198.5,-969.73\" fill=\"none\" stroke=\"black\"/>\n",
       "<polygon fill=\"black\" points=\"202,-969.61 198.5,-959.61 195,-969.61 202,-969.61\" stroke=\"black\"/>\n",
       "</g>\n",
       "<!-- 1975381041096 -->\n",
       "<g class=\"node\" id=\"node3\">\n",
       "<title>1975381041096</title>\n",
       "<polygon fill=\"none\" points=\"0.5,-830.5 0.5,-876.5 396.5,-876.5 396.5,-830.5 0.5,-830.5\" stroke=\"black\"/>\n",
       "<text font-family=\"Times New Roman,serif\" font-size=\"14.00\" text-anchor=\"middle\" x=\"123\" y=\"-849.8\">batch_normalization: BatchNormalization</text>\n",
       "<polyline fill=\"none\" points=\"245.5,-830.5 245.5,-876.5 \" stroke=\"black\"/>\n",
       "<text font-family=\"Times New Roman,serif\" font-size=\"14.00\" text-anchor=\"middle\" x=\"273.5\" y=\"-861.3\">input:</text>\n",
       "<polyline fill=\"none\" points=\"245.5,-853.5 301.5,-853.5 \" stroke=\"black\"/>\n",
       "<text font-family=\"Times New Roman,serif\" font-size=\"14.00\" text-anchor=\"middle\" x=\"273.5\" y=\"-838.3\">output:</text>\n",
       "<polyline fill=\"none\" points=\"301.5,-830.5 301.5,-876.5 \" stroke=\"black\"/>\n",
       "<text font-family=\"Times New Roman,serif\" font-size=\"14.00\" text-anchor=\"middle\" x=\"349\" y=\"-861.3\">(?, 28, 28, 16)</text>\n",
       "<polyline fill=\"none\" points=\"301.5,-853.5 396.5,-853.5 \" stroke=\"black\"/>\n",
       "<text font-family=\"Times New Roman,serif\" font-size=\"14.00\" text-anchor=\"middle\" x=\"349\" y=\"-838.3\">(?, 28, 28, 16)</text>\n",
       "</g>\n",
       "<!-- 1975380661960&#45;&gt;1975381041096 -->\n",
       "<g class=\"edge\" id=\"edge2\">\n",
       "<title>1975380661960-&gt;1975381041096</title>\n",
       "<path d=\"M198.5,-913.37C198.5,-905.15 198.5,-895.66 198.5,-886.73\" fill=\"none\" stroke=\"black\"/>\n",
       "<polygon fill=\"black\" points=\"202,-886.61 198.5,-876.61 195,-886.61 202,-886.61\" stroke=\"black\"/>\n",
       "</g>\n",
       "<!-- 1975381037704 -->\n",
       "<g class=\"node\" id=\"node4\">\n",
       "<title>1975381037704</title>\n",
       "<polygon fill=\"none\" points=\"80.5,-747.5 80.5,-793.5 316.5,-793.5 316.5,-747.5 80.5,-747.5\" stroke=\"black\"/>\n",
       "<text font-family=\"Times New Roman,serif\" font-size=\"14.00\" text-anchor=\"middle\" x=\"123\" y=\"-766.8\">re_lu: ReLU</text>\n",
       "<polyline fill=\"none\" points=\"165.5,-747.5 165.5,-793.5 \" stroke=\"black\"/>\n",
       "<text font-family=\"Times New Roman,serif\" font-size=\"14.00\" text-anchor=\"middle\" x=\"193.5\" y=\"-778.3\">input:</text>\n",
       "<polyline fill=\"none\" points=\"165.5,-770.5 221.5,-770.5 \" stroke=\"black\"/>\n",
       "<text font-family=\"Times New Roman,serif\" font-size=\"14.00\" text-anchor=\"middle\" x=\"193.5\" y=\"-755.3\">output:</text>\n",
       "<polyline fill=\"none\" points=\"221.5,-747.5 221.5,-793.5 \" stroke=\"black\"/>\n",
       "<text font-family=\"Times New Roman,serif\" font-size=\"14.00\" text-anchor=\"middle\" x=\"269\" y=\"-778.3\">(?, 28, 28, 16)</text>\n",
       "<polyline fill=\"none\" points=\"221.5,-770.5 316.5,-770.5 \" stroke=\"black\"/>\n",
       "<text font-family=\"Times New Roman,serif\" font-size=\"14.00\" text-anchor=\"middle\" x=\"269\" y=\"-755.3\">(?, 28, 28, 16)</text>\n",
       "</g>\n",
       "<!-- 1975381041096&#45;&gt;1975381037704 -->\n",
       "<g class=\"edge\" id=\"edge3\">\n",
       "<title>1975381041096-&gt;1975381037704</title>\n",
       "<path d=\"M198.5,-830.37C198.5,-822.15 198.5,-812.66 198.5,-803.73\" fill=\"none\" stroke=\"black\"/>\n",
       "<polygon fill=\"black\" points=\"202,-803.61 198.5,-793.61 195,-803.61 202,-803.61\" stroke=\"black\"/>\n",
       "</g>\n",
       "<!-- 1975381835464 -->\n",
       "<g class=\"node\" id=\"node5\">\n",
       "<title>1975381835464</title>\n",
       "<polygon fill=\"none\" points=\"59.5,-664.5 59.5,-710.5 337.5,-710.5 337.5,-664.5 59.5,-664.5\" stroke=\"black\"/>\n",
       "<text font-family=\"Times New Roman,serif\" font-size=\"14.00\" text-anchor=\"middle\" x=\"123\" y=\"-683.8\">conv2d_1: Conv2D</text>\n",
       "<polyline fill=\"none\" points=\"186.5,-664.5 186.5,-710.5 \" stroke=\"black\"/>\n",
       "<text font-family=\"Times New Roman,serif\" font-size=\"14.00\" text-anchor=\"middle\" x=\"214.5\" y=\"-695.3\">input:</text>\n",
       "<polyline fill=\"none\" points=\"186.5,-687.5 242.5,-687.5 \" stroke=\"black\"/>\n",
       "<text font-family=\"Times New Roman,serif\" font-size=\"14.00\" text-anchor=\"middle\" x=\"214.5\" y=\"-672.3\">output:</text>\n",
       "<polyline fill=\"none\" points=\"242.5,-664.5 242.5,-710.5 \" stroke=\"black\"/>\n",
       "<text font-family=\"Times New Roman,serif\" font-size=\"14.00\" text-anchor=\"middle\" x=\"290\" y=\"-695.3\">(?, 28, 28, 16)</text>\n",
       "<polyline fill=\"none\" points=\"242.5,-687.5 337.5,-687.5 \" stroke=\"black\"/>\n",
       "<text font-family=\"Times New Roman,serif\" font-size=\"14.00\" text-anchor=\"middle\" x=\"290\" y=\"-672.3\">(?, 14, 14, 32)</text>\n",
       "</g>\n",
       "<!-- 1975381037704&#45;&gt;1975381835464 -->\n",
       "<g class=\"edge\" id=\"edge4\">\n",
       "<title>1975381037704-&gt;1975381835464</title>\n",
       "<path d=\"M198.5,-747.37C198.5,-739.15 198.5,-729.66 198.5,-720.73\" fill=\"none\" stroke=\"black\"/>\n",
       "<polygon fill=\"black\" points=\"202,-720.61 198.5,-710.61 195,-720.61 202,-720.61\" stroke=\"black\"/>\n",
       "</g>\n",
       "<!-- 1975380608392 -->\n",
       "<g class=\"node\" id=\"node6\">\n",
       "<title>1975380608392</title>\n",
       "<polygon fill=\"none\" points=\"26,-581.5 26,-627.5 371,-627.5 371,-581.5 26,-581.5\" stroke=\"black\"/>\n",
       "<text font-family=\"Times New Roman,serif\" font-size=\"14.00\" text-anchor=\"middle\" x=\"123\" y=\"-600.8\">max_pooling2d: MaxPooling2D</text>\n",
       "<polyline fill=\"none\" points=\"220,-581.5 220,-627.5 \" stroke=\"black\"/>\n",
       "<text font-family=\"Times New Roman,serif\" font-size=\"14.00\" text-anchor=\"middle\" x=\"248\" y=\"-612.3\">input:</text>\n",
       "<polyline fill=\"none\" points=\"220,-604.5 276,-604.5 \" stroke=\"black\"/>\n",
       "<text font-family=\"Times New Roman,serif\" font-size=\"14.00\" text-anchor=\"middle\" x=\"248\" y=\"-589.3\">output:</text>\n",
       "<polyline fill=\"none\" points=\"276,-581.5 276,-627.5 \" stroke=\"black\"/>\n",
       "<text font-family=\"Times New Roman,serif\" font-size=\"14.00\" text-anchor=\"middle\" x=\"323.5\" y=\"-612.3\">(?, 14, 14, 32)</text>\n",
       "<polyline fill=\"none\" points=\"276,-604.5 371,-604.5 \" stroke=\"black\"/>\n",
       "<text font-family=\"Times New Roman,serif\" font-size=\"14.00\" text-anchor=\"middle\" x=\"323.5\" y=\"-589.3\">(?, 7, 7, 32)</text>\n",
       "</g>\n",
       "<!-- 1975381835464&#45;&gt;1975380608392 -->\n",
       "<g class=\"edge\" id=\"edge5\">\n",
       "<title>1975381835464-&gt;1975380608392</title>\n",
       "<path d=\"M198.5,-664.37C198.5,-656.15 198.5,-646.66 198.5,-637.73\" fill=\"none\" stroke=\"black\"/>\n",
       "<polygon fill=\"black\" points=\"202,-637.61 198.5,-627.61 195,-637.61 202,-637.61\" stroke=\"black\"/>\n",
       "</g>\n",
       "<!-- 1975380610056 -->\n",
       "<g class=\"node\" id=\"node7\">\n",
       "<title>1975380610056</title>\n",
       "<polygon fill=\"none\" points=\"0,-498.5 0,-544.5 397,-544.5 397,-498.5 0,-498.5\" stroke=\"black\"/>\n",
       "<text font-family=\"Times New Roman,serif\" font-size=\"14.00\" text-anchor=\"middle\" x=\"130\" y=\"-517.8\">batch_normalization_1: BatchNormalization</text>\n",
       "<polyline fill=\"none\" points=\"260,-498.5 260,-544.5 \" stroke=\"black\"/>\n",
       "<text font-family=\"Times New Roman,serif\" font-size=\"14.00\" text-anchor=\"middle\" x=\"288\" y=\"-529.3\">input:</text>\n",
       "<polyline fill=\"none\" points=\"260,-521.5 316,-521.5 \" stroke=\"black\"/>\n",
       "<text font-family=\"Times New Roman,serif\" font-size=\"14.00\" text-anchor=\"middle\" x=\"288\" y=\"-506.3\">output:</text>\n",
       "<polyline fill=\"none\" points=\"316,-498.5 316,-544.5 \" stroke=\"black\"/>\n",
       "<text font-family=\"Times New Roman,serif\" font-size=\"14.00\" text-anchor=\"middle\" x=\"356.5\" y=\"-529.3\">(?, 7, 7, 32)</text>\n",
       "<polyline fill=\"none\" points=\"316,-521.5 397,-521.5 \" stroke=\"black\"/>\n",
       "<text font-family=\"Times New Roman,serif\" font-size=\"14.00\" text-anchor=\"middle\" x=\"356.5\" y=\"-506.3\">(?, 7, 7, 32)</text>\n",
       "</g>\n",
       "<!-- 1975380608392&#45;&gt;1975380610056 -->\n",
       "<g class=\"edge\" id=\"edge6\">\n",
       "<title>1975380608392-&gt;1975380610056</title>\n",
       "<path d=\"M198.5,-581.37C198.5,-573.15 198.5,-563.66 198.5,-554.73\" fill=\"none\" stroke=\"black\"/>\n",
       "<polygon fill=\"black\" points=\"202,-554.61 198.5,-544.61 195,-554.61 202,-554.61\" stroke=\"black\"/>\n",
       "</g>\n",
       "<!-- 1975381313800 -->\n",
       "<g class=\"node\" id=\"node8\">\n",
       "<title>1975381313800</title>\n",
       "<polygon fill=\"none\" points=\"80.5,-415.5 80.5,-461.5 316.5,-461.5 316.5,-415.5 80.5,-415.5\" stroke=\"black\"/>\n",
       "<text font-family=\"Times New Roman,serif\" font-size=\"14.00\" text-anchor=\"middle\" x=\"130\" y=\"-434.8\">re_lu_1: ReLU</text>\n",
       "<polyline fill=\"none\" points=\"179.5,-415.5 179.5,-461.5 \" stroke=\"black\"/>\n",
       "<text font-family=\"Times New Roman,serif\" font-size=\"14.00\" text-anchor=\"middle\" x=\"207.5\" y=\"-446.3\">input:</text>\n",
       "<polyline fill=\"none\" points=\"179.5,-438.5 235.5,-438.5 \" stroke=\"black\"/>\n",
       "<text font-family=\"Times New Roman,serif\" font-size=\"14.00\" text-anchor=\"middle\" x=\"207.5\" y=\"-423.3\">output:</text>\n",
       "<polyline fill=\"none\" points=\"235.5,-415.5 235.5,-461.5 \" stroke=\"black\"/>\n",
       "<text font-family=\"Times New Roman,serif\" font-size=\"14.00\" text-anchor=\"middle\" x=\"276\" y=\"-446.3\">(?, 7, 7, 32)</text>\n",
       "<polyline fill=\"none\" points=\"235.5,-438.5 316.5,-438.5 \" stroke=\"black\"/>\n",
       "<text font-family=\"Times New Roman,serif\" font-size=\"14.00\" text-anchor=\"middle\" x=\"276\" y=\"-423.3\">(?, 7, 7, 32)</text>\n",
       "</g>\n",
       "<!-- 1975380610056&#45;&gt;1975381313800 -->\n",
       "<g class=\"edge\" id=\"edge7\">\n",
       "<title>1975380610056-&gt;1975381313800</title>\n",
       "<path d=\"M198.5,-498.37C198.5,-490.15 198.5,-480.66 198.5,-471.73\" fill=\"none\" stroke=\"black\"/>\n",
       "<polygon fill=\"black\" points=\"202,-471.61 198.5,-461.61 195,-471.61 202,-471.61\" stroke=\"black\"/>\n",
       "</g>\n",
       "<!-- 1975381789064 -->\n",
       "<g class=\"node\" id=\"node9\">\n",
       "<title>1975381789064</title>\n",
       "<polygon fill=\"none\" points=\"82.5,-332.5 82.5,-378.5 314.5,-378.5 314.5,-332.5 82.5,-332.5\" stroke=\"black\"/>\n",
       "<text font-family=\"Times New Roman,serif\" font-size=\"14.00\" text-anchor=\"middle\" x=\"130\" y=\"-351.8\">flatten: Flatten</text>\n",
       "<polyline fill=\"none\" points=\"177.5,-332.5 177.5,-378.5 \" stroke=\"black\"/>\n",
       "<text font-family=\"Times New Roman,serif\" font-size=\"14.00\" text-anchor=\"middle\" x=\"205.5\" y=\"-363.3\">input:</text>\n",
       "<polyline fill=\"none\" points=\"177.5,-355.5 233.5,-355.5 \" stroke=\"black\"/>\n",
       "<text font-family=\"Times New Roman,serif\" font-size=\"14.00\" text-anchor=\"middle\" x=\"205.5\" y=\"-340.3\">output:</text>\n",
       "<polyline fill=\"none\" points=\"233.5,-332.5 233.5,-378.5 \" stroke=\"black\"/>\n",
       "<text font-family=\"Times New Roman,serif\" font-size=\"14.00\" text-anchor=\"middle\" x=\"274\" y=\"-363.3\">(?, 7, 7, 32)</text>\n",
       "<polyline fill=\"none\" points=\"233.5,-355.5 314.5,-355.5 \" stroke=\"black\"/>\n",
       "<text font-family=\"Times New Roman,serif\" font-size=\"14.00\" text-anchor=\"middle\" x=\"274\" y=\"-340.3\">(?, 1568)</text>\n",
       "</g>\n",
       "<!-- 1975381313800&#45;&gt;1975381789064 -->\n",
       "<g class=\"edge\" id=\"edge8\">\n",
       "<title>1975381313800-&gt;1975381789064</title>\n",
       "<path d=\"M198.5,-415.37C198.5,-407.15 198.5,-397.66 198.5,-388.73\" fill=\"none\" stroke=\"black\"/>\n",
       "<polygon fill=\"black\" points=\"202,-388.61 198.5,-378.61 195,-388.61 202,-388.61\" stroke=\"black\"/>\n",
       "</g>\n",
       "<!-- 1975382180232 -->\n",
       "<g class=\"node\" id=\"node10\">\n",
       "<title>1975382180232</title>\n",
       "<polygon fill=\"none\" points=\"92.5,-249.5 92.5,-295.5 304.5,-295.5 304.5,-249.5 92.5,-249.5\" stroke=\"black\"/>\n",
       "<text font-family=\"Times New Roman,serif\" font-size=\"14.00\" text-anchor=\"middle\" x=\"137.5\" y=\"-268.8\">dense: Dense</text>\n",
       "<polyline fill=\"none\" points=\"182.5,-249.5 182.5,-295.5 \" stroke=\"black\"/>\n",
       "<text font-family=\"Times New Roman,serif\" font-size=\"14.00\" text-anchor=\"middle\" x=\"210.5\" y=\"-280.3\">input:</text>\n",
       "<polyline fill=\"none\" points=\"182.5,-272.5 238.5,-272.5 \" stroke=\"black\"/>\n",
       "<text font-family=\"Times New Roman,serif\" font-size=\"14.00\" text-anchor=\"middle\" x=\"210.5\" y=\"-257.3\">output:</text>\n",
       "<polyline fill=\"none\" points=\"238.5,-249.5 238.5,-295.5 \" stroke=\"black\"/>\n",
       "<text font-family=\"Times New Roman,serif\" font-size=\"14.00\" text-anchor=\"middle\" x=\"271.5\" y=\"-280.3\">(?, 1568)</text>\n",
       "<polyline fill=\"none\" points=\"238.5,-272.5 304.5,-272.5 \" stroke=\"black\"/>\n",
       "<text font-family=\"Times New Roman,serif\" font-size=\"14.00\" text-anchor=\"middle\" x=\"271.5\" y=\"-257.3\">(?, 128)</text>\n",
       "</g>\n",
       "<!-- 1975381789064&#45;&gt;1975382180232 -->\n",
       "<g class=\"edge\" id=\"edge9\">\n",
       "<title>1975381789064-&gt;1975382180232</title>\n",
       "<path d=\"M198.5,-332.37C198.5,-324.15 198.5,-314.66 198.5,-305.73\" fill=\"none\" stroke=\"black\"/>\n",
       "<polygon fill=\"black\" points=\"202,-305.61 198.5,-295.61 195,-305.61 202,-305.61\" stroke=\"black\"/>\n",
       "</g>\n",
       "<!-- 1975382208456 -->\n",
       "<g class=\"node\" id=\"node11\">\n",
       "<title>1975382208456</title>\n",
       "<polygon fill=\"none\" points=\"11,-166.5 11,-212.5 386,-212.5 386,-166.5 11,-166.5\" stroke=\"black\"/>\n",
       "<text font-family=\"Times New Roman,serif\" font-size=\"14.00\" text-anchor=\"middle\" x=\"141\" y=\"-185.8\">batch_normalization_2: BatchNormalization</text>\n",
       "<polyline fill=\"none\" points=\"271,-166.5 271,-212.5 \" stroke=\"black\"/>\n",
       "<text font-family=\"Times New Roman,serif\" font-size=\"14.00\" text-anchor=\"middle\" x=\"299\" y=\"-197.3\">input:</text>\n",
       "<polyline fill=\"none\" points=\"271,-189.5 327,-189.5 \" stroke=\"black\"/>\n",
       "<text font-family=\"Times New Roman,serif\" font-size=\"14.00\" text-anchor=\"middle\" x=\"299\" y=\"-174.3\">output:</text>\n",
       "<polyline fill=\"none\" points=\"327,-166.5 327,-212.5 \" stroke=\"black\"/>\n",
       "<text font-family=\"Times New Roman,serif\" font-size=\"14.00\" text-anchor=\"middle\" x=\"356.5\" y=\"-197.3\">(?, 128)</text>\n",
       "<polyline fill=\"none\" points=\"327,-189.5 386,-189.5 \" stroke=\"black\"/>\n",
       "<text font-family=\"Times New Roman,serif\" font-size=\"14.00\" text-anchor=\"middle\" x=\"356.5\" y=\"-174.3\">(?, 128)</text>\n",
       "</g>\n",
       "<!-- 1975382180232&#45;&gt;1975382208456 -->\n",
       "<g class=\"edge\" id=\"edge10\">\n",
       "<title>1975382180232-&gt;1975382208456</title>\n",
       "<path d=\"M198.5,-249.37C198.5,-241.15 198.5,-231.66 198.5,-222.73\" fill=\"none\" stroke=\"black\"/>\n",
       "<polygon fill=\"black\" points=\"202,-222.61 198.5,-212.61 195,-222.61 202,-222.61\" stroke=\"black\"/>\n",
       "</g>\n",
       "<!-- 1975382207880 -->\n",
       "<g class=\"node\" id=\"node12\">\n",
       "<title>1975382207880</title>\n",
       "<polygon fill=\"none\" points=\"91.5,-83.5 91.5,-129.5 305.5,-129.5 305.5,-83.5 91.5,-83.5\" stroke=\"black\"/>\n",
       "<text font-family=\"Times New Roman,serif\" font-size=\"14.00\" text-anchor=\"middle\" x=\"141\" y=\"-102.8\">re_lu_2: ReLU</text>\n",
       "<polyline fill=\"none\" points=\"190.5,-83.5 190.5,-129.5 \" stroke=\"black\"/>\n",
       "<text font-family=\"Times New Roman,serif\" font-size=\"14.00\" text-anchor=\"middle\" x=\"218.5\" y=\"-114.3\">input:</text>\n",
       "<polyline fill=\"none\" points=\"190.5,-106.5 246.5,-106.5 \" stroke=\"black\"/>\n",
       "<text font-family=\"Times New Roman,serif\" font-size=\"14.00\" text-anchor=\"middle\" x=\"218.5\" y=\"-91.3\">output:</text>\n",
       "<polyline fill=\"none\" points=\"246.5,-83.5 246.5,-129.5 \" stroke=\"black\"/>\n",
       "<text font-family=\"Times New Roman,serif\" font-size=\"14.00\" text-anchor=\"middle\" x=\"276\" y=\"-114.3\">(?, 128)</text>\n",
       "<polyline fill=\"none\" points=\"246.5,-106.5 305.5,-106.5 \" stroke=\"black\"/>\n",
       "<text font-family=\"Times New Roman,serif\" font-size=\"14.00\" text-anchor=\"middle\" x=\"276\" y=\"-91.3\">(?, 128)</text>\n",
       "</g>\n",
       "<!-- 1975382208456&#45;&gt;1975382207880 -->\n",
       "<g class=\"edge\" id=\"edge11\">\n",
       "<title>1975382208456-&gt;1975382207880</title>\n",
       "<path d=\"M198.5,-166.37C198.5,-158.15 198.5,-148.66 198.5,-139.73\" fill=\"none\" stroke=\"black\"/>\n",
       "<polygon fill=\"black\" points=\"202,-139.61 198.5,-129.61 195,-139.61 202,-139.61\" stroke=\"black\"/>\n",
       "</g>\n",
       "<!-- 1975399111112 -->\n",
       "<g class=\"node\" id=\"node13\">\n",
       "<title>1975399111112</title>\n",
       "<polygon fill=\"none\" points=\"89,-0.5 89,-46.5 308,-46.5 308,-0.5 89,-0.5\" stroke=\"black\"/>\n",
       "<text font-family=\"Times New Roman,serif\" font-size=\"14.00\" text-anchor=\"middle\" x=\"141\" y=\"-19.8\">dense_1: Dense</text>\n",
       "<polyline fill=\"none\" points=\"193,-0.5 193,-46.5 \" stroke=\"black\"/>\n",
       "<text font-family=\"Times New Roman,serif\" font-size=\"14.00\" text-anchor=\"middle\" x=\"221\" y=\"-31.3\">input:</text>\n",
       "<polyline fill=\"none\" points=\"193,-23.5 249,-23.5 \" stroke=\"black\"/>\n",
       "<text font-family=\"Times New Roman,serif\" font-size=\"14.00\" text-anchor=\"middle\" x=\"221\" y=\"-8.3\">output:</text>\n",
       "<polyline fill=\"none\" points=\"249,-0.5 249,-46.5 \" stroke=\"black\"/>\n",
       "<text font-family=\"Times New Roman,serif\" font-size=\"14.00\" text-anchor=\"middle\" x=\"278.5\" y=\"-31.3\">(?, 128)</text>\n",
       "<polyline fill=\"none\" points=\"249,-23.5 308,-23.5 \" stroke=\"black\"/>\n",
       "<text font-family=\"Times New Roman,serif\" font-size=\"14.00\" text-anchor=\"middle\" x=\"278.5\" y=\"-8.3\">(?, 10)</text>\n",
       "</g>\n",
       "<!-- 1975382207880&#45;&gt;1975399111112 -->\n",
       "<g class=\"edge\" id=\"edge12\">\n",
       "<title>1975382207880-&gt;1975399111112</title>\n",
       "<path d=\"M198.5,-83.37C198.5,-75.15 198.5,-65.66 198.5,-56.73\" fill=\"none\" stroke=\"black\"/>\n",
       "<polygon fill=\"black\" points=\"202,-56.61 198.5,-46.61 195,-56.61 202,-56.61\" stroke=\"black\"/>\n",
       "</g>\n",
       "</g>\n",
       "</svg>"
      ],
      "text/plain": [
       "<IPython.core.display.SVG object>"
      ]
     },
     "execution_count": 8,
     "metadata": {},
     "output_type": "execute_result"
    }
   ],
   "source": [
    "from IPython.display import SVG\n",
    "from keras.utils.vis_utils import model_to_dot\n",
    "%matplotlib inline\n",
    "\n",
    "SVG(model_to_dot(model, show_shapes=True).create(prog='dot', format='svg'))"
   ]
  },
  {
   "cell_type": "markdown",
   "metadata": {},
   "source": [
    "## (3) 모델의 학습과정 설정\n",
    "\n",
    "optimizer에 문자열 대신에 파라미터를 수정한 optimizer를 입력할 수 있음\n",
    "\n",
    "https://keras.io/optimizers/#adam"
   ]
  },
  {
   "cell_type": "code",
   "execution_count": 9,
   "metadata": {},
   "outputs": [],
   "source": [
    "from keras.optimizers import Adam"
   ]
  },
  {
   "cell_type": "code",
   "execution_count": 10,
   "metadata": {},
   "outputs": [],
   "source": [
    "adam = Adam(lr=0.001, beta_1=0.9, beta_2=0.999, decay=1e-6, epsilon=None, amsgrad=False)\n",
    "model.compile(loss='categorical_crossentropy', optimizer=adam, metrics=['accuracy'])"
   ]
  },
  {
   "cell_type": "markdown",
   "metadata": {},
   "source": [
    "## (4) 모델 학습시키기"
   ]
  },
  {
   "cell_type": "code",
   "execution_count": 11,
   "metadata": {
    "scrolled": true
   },
   "outputs": [
    {
     "name": "stdout",
     "output_type": "stream",
     "text": [
      "Epoch 1/20\n",
      "375/375 [==============================] - 18s 48ms/step - loss: 0.1579 - accuracy: 0.9568 - val_loss: 0.0759 - val_accuracy: 0.9773\n",
      "Epoch 2/20\n",
      "375/375 [==============================] - 18s 47ms/step - loss: 0.0423 - accuracy: 0.9882 - val_loss: 0.0656 - val_accuracy: 0.9788\n",
      "Epoch 3/20\n",
      "375/375 [==============================] - 18s 47ms/step - loss: 0.0254 - accuracy: 0.9926 - val_loss: 0.0439 - val_accuracy: 0.9860\n",
      "Epoch 4/20\n",
      "375/375 [==============================] - 18s 47ms/step - loss: 0.0160 - accuracy: 0.9960 - val_loss: 0.0496 - val_accuracy: 0.9852\n",
      "Epoch 5/20\n",
      "375/375 [==============================] - 17s 47ms/step - loss: 0.0109 - accuracy: 0.9975 - val_loss: 0.0458 - val_accuracy: 0.9863\n",
      "Epoch 6/20\n",
      "375/375 [==============================] - 18s 48ms/step - loss: 0.0075 - accuracy: 0.9985 - val_loss: 0.0474 - val_accuracy: 0.9848\n",
      "Epoch 7/20\n",
      "375/375 [==============================] - 18s 47ms/step - loss: 0.0049 - accuracy: 0.9992 - val_loss: 0.0518 - val_accuracy: 0.9859\n",
      "Epoch 8/20\n",
      "375/375 [==============================] - 18s 47ms/step - loss: 0.0048 - accuracy: 0.9989 - val_loss: 0.0529 - val_accuracy: 0.9835\n",
      "Epoch 9/20\n",
      "375/375 [==============================] - 17s 46ms/step - loss: 0.0059 - accuracy: 0.9985 - val_loss: 0.0510 - val_accuracy: 0.9847\n",
      "Epoch 10/20\n",
      "375/375 [==============================] - 17s 46ms/step - loss: 0.0047 - accuracy: 0.9988 - val_loss: 0.0452 - val_accuracy: 0.9874\n",
      "Epoch 11/20\n",
      "375/375 [==============================] - 17s 46ms/step - loss: 0.0042 - accuracy: 0.9988 - val_loss: 0.0521 - val_accuracy: 0.9859\n",
      "Epoch 12/20\n",
      "375/375 [==============================] - 18s 47ms/step - loss: 0.0048 - accuracy: 0.9987 - val_loss: 0.0428 - val_accuracy: 0.9889\n",
      "Epoch 13/20\n",
      "375/375 [==============================] - 17s 46ms/step - loss: 0.0025 - accuracy: 0.9995 - val_loss: 0.0426 - val_accuracy: 0.9884\n",
      "Epoch 14/20\n",
      "375/375 [==============================] - 17s 46ms/step - loss: 0.0036 - accuracy: 0.9990 - val_loss: 0.0431 - val_accuracy: 0.9883\n",
      "Epoch 15/20\n",
      "375/375 [==============================] - 17s 46ms/step - loss: 0.0039 - accuracy: 0.9989 - val_loss: 0.0411 - val_accuracy: 0.9894\n",
      "Epoch 16/20\n",
      "375/375 [==============================] - 17s 46ms/step - loss: 0.0024 - accuracy: 0.9993 - val_loss: 0.0473 - val_accuracy: 0.9884\n",
      "Epoch 17/20\n",
      "375/375 [==============================] - 17s 46ms/step - loss: 0.0023 - accuracy: 0.9995 - val_loss: 0.0549 - val_accuracy: 0.9875\n",
      "Epoch 18/20\n",
      "375/375 [==============================] - 17s 46ms/step - loss: 0.0020 - accuracy: 0.9994 - val_loss: 0.0465 - val_accuracy: 0.9887\n",
      "Epoch 19/20\n",
      "375/375 [==============================] - 17s 46ms/step - loss: 0.0032 - accuracy: 0.9990 - val_loss: 0.0457 - val_accuracy: 0.9886\n",
      "Epoch 20/20\n",
      "375/375 [==============================] - 17s 46ms/step - loss: 0.0029 - accuracy: 0.9992 - val_loss: 0.0468 - val_accuracy: 0.9882\n"
     ]
    }
   ],
   "source": [
    "history = model.fit(X_train, Y_train, batch_size=128, epochs=20, validation_split=0.2)"
   ]
  },
  {
   "cell_type": "markdown",
   "metadata": {},
   "source": [
    "## (5) 모델 평가하기"
   ]
  },
  {
   "cell_type": "code",
   "execution_count": 12,
   "metadata": {},
   "outputs": [
    {
     "name": "stdout",
     "output_type": "stream",
     "text": [
      "79/79 [==============================] - 1s 10ms/step - loss: 0.0444 - accuracy: 0.9876\n",
      "loss : 0.0444, accruracy : 0.9876\n"
     ]
    }
   ],
   "source": [
    "loss_and_accuracy = model.evaluate(X_test, Y_test, batch_size=128)\n",
    "print('loss : %.4f, accruracy : %.4f'%(loss_and_accuracy[0],loss_and_accuracy[1]))"
   ]
  },
  {
   "cell_type": "markdown",
   "metadata": {},
   "source": [
    "## (6) 모델 사용하기"
   ]
  },
  {
   "cell_type": "code",
   "execution_count": 13,
   "metadata": {},
   "outputs": [
    {
     "name": "stdout",
     "output_type": "stream",
     "text": [
      "predict label :  [0. 0. 0. 0. 0. 0. 1. 0. 0. 0.]\n"
     ]
    },
    {
     "data": {
      "text/plain": [
       "<matplotlib.image.AxesImage at 0x1cbea67dd48>"
      ]
     },
     "execution_count": 13,
     "metadata": {},
     "output_type": "execute_result"
    },
    {
     "data": {
      "image/png": "[encoded data removed]",
      "text/plain": [
       "<Figure size 432x288 with 1 Axes>"
      ]
     },
     "metadata": {
      "needs_background": "light"
     },
     "output_type": "display_data"
    }
   ],
   "source": [
    "test_data = X_test[-1].reshape(1,28,28,1)\n",
    "pred_y = model.predict(test_data)\n",
    "pred_y = pred_y.argmax()\n",
    "\n",
    "print('predict label : ',Y_test[-1])\n",
    "plt.imshow(X_test[-1].reshape(28,28), cmap='gray')"
   ]
  },
  {
   "cell_type": "markdown",
   "metadata": {},
   "source": [
    "## 3.2 모델 합치기(feature extractor, ANN classifier)\n",
    "convolution과 maxpooling layer로 구성된 feature extractor 모델과\n",
    "\n",
    "fully connected layer로 구성된 ANN classifier 모델을 따로 정의하고\n",
    "\n",
    "두 모델을 합쳐서 CNN 모델을 만듬"
   ]
  },
  {
   "cell_type": "code",
   "execution_count": 15,
   "metadata": {},
   "outputs": [],
   "source": [
    "def conv_maxpool_layers(n_in):\n",
    "    model = Sequential()\n",
    "    model.add(Conv2D(16, kernel_size=(3, 3), padding='same', activation='relu', input_shape=n_in))\n",
    "    model.add(Conv2D(32, (3, 3), padding='same',strides=(2, 2), activation='relu'))\n",
    "    model.add(MaxPooling2D(pool_size=(2, 2)))\n",
    "    model.add(Flatten())\n",
    "    model.compile(loss='categorical_crossentropy', optimizer='adam', metrics=['accuracy'])\n",
    "    return model\n",
    "\n",
    "def fc_layers(n_out):\n",
    "    model = Sequential()\n",
    "    model.add(Dense(units =128, input_shape=(1568,), activation='relu'))\n",
    "    model.add(Dense(units =n_out, activation='softmax'))\n",
    "    model.compile(loss='categorical_crossentropy', optimizer='adam', metrics=['accuracy'])\n",
    "    return model\n",
    "\n",
    "def CNN_(n_in, n_out):\n",
    "    #각 부분 모델\n",
    "    feature_extractor=conv_maxpool_layers(n_in)\n",
    "    feature_extractor.trainable=True\n",
    "    ann_classifier = fc_layers(n_out)\n",
    "    ann_classifier.trainable=True\n",
    "    \n",
    "    #두 모델을 합쳐 새로운 모델 정의\n",
    "    x = Input(shape=n_in)\n",
    "    feature = feature_extractor(x)\n",
    "    y = ann_classifier(feature)\n",
    "    model = Model(inputs = x, outputs = y)\n",
    "    \n",
    "    #model = Sequential()\n",
    "    #model.add(feature_extractor)\n",
    "    #model.add(ann_classifier)\n",
    "    \n",
    "    return model"
   ]
  },
  {
   "cell_type": "code",
   "execution_count": 16,
   "metadata": {},
   "outputs": [],
   "source": [
    "model = CNN_(n_in, n_out)"
   ]
  },
  {
   "cell_type": "code",
   "execution_count": 17,
   "metadata": {},
   "outputs": [
    {
     "name": "stdout",
     "output_type": "stream",
     "text": [
      "Model: \"model\"\n",
      "_________________________________________________________________\n",
      "Layer (type)                 Output Shape              Param #   \n",
      "=================================================================\n",
      "input_1 (InputLayer)         [(None, 28, 28, 1)]       0         \n",
      "_________________________________________________________________\n",
      "sequential_1 (Sequential)    (None, 1568)              4800      \n",
      "_________________________________________________________________\n",
      "sequential_2 (Sequential)    (None, 10)                202122    \n",
      "=================================================================\n",
      "Total params: 206,922\n",
      "Trainable params: 206,922\n",
      "Non-trainable params: 0\n",
      "_________________________________________________________________\n"
     ]
    }
   ],
   "source": [
    "model.summary()"
   ]
  },
  {
   "cell_type": "code",
   "execution_count": 18,
   "metadata": {
    "scrolled": true
   },
   "outputs": [
    {
     "name": "stdout",
     "output_type": "stream",
     "text": [
      "Epoch 1/20\n",
      "375/375 [==============================] - 3s 9ms/step - loss: 0.6775 - accuracy: 0.9110 - val_loss: 0.1012 - val_accuracy: 0.9707\n",
      "Epoch 2/20\n",
      "375/375 [==============================] - 3s 8ms/step - loss: 0.0663 - accuracy: 0.9793 - val_loss: 0.0693 - val_accuracy: 0.9808\n",
      "Epoch 3/20\n",
      "375/375 [==============================] - 3s 8ms/step - loss: 0.0375 - accuracy: 0.9879 - val_loss: 0.0684 - val_accuracy: 0.9808\n",
      "Epoch 4/20\n",
      "375/375 [==============================] - 3s 8ms/step - loss: 0.0257 - accuracy: 0.9914 - val_loss: 0.0687 - val_accuracy: 0.9819\n",
      "Epoch 5/20\n",
      "375/375 [==============================] - 3s 8ms/step - loss: 0.0168 - accuracy: 0.9943 - val_loss: 0.0743 - val_accuracy: 0.9819\n",
      "Epoch 6/20\n",
      "375/375 [==============================] - 3s 8ms/step - loss: 0.0151 - accuracy: 0.9947 - val_loss: 0.0822 - val_accuracy: 0.9835\n",
      "Epoch 7/20\n",
      "375/375 [==============================] - 3s 8ms/step - loss: 0.0168 - accuracy: 0.9944 - val_loss: 0.0864 - val_accuracy: 0.9803\n",
      "Epoch 8/20\n",
      "375/375 [==============================] - 3s 8ms/step - loss: 0.0158 - accuracy: 0.9948 - val_loss: 0.0867 - val_accuracy: 0.9814\n",
      "Epoch 9/20\n",
      "375/375 [==============================] - 3s 8ms/step - loss: 0.0103 - accuracy: 0.9962 - val_loss: 0.0829 - val_accuracy: 0.9838\n",
      "Epoch 10/20\n",
      "375/375 [==============================] - 3s 8ms/step - loss: 0.0178 - accuracy: 0.9944 - val_loss: 0.0934 - val_accuracy: 0.9818\n",
      "Epoch 11/20\n",
      "375/375 [==============================] - 3s 9ms/step - loss: 0.0143 - accuracy: 0.9953 - val_loss: 0.0922 - val_accuracy: 0.9833\n",
      "Epoch 12/20\n",
      "375/375 [==============================] - 3s 8ms/step - loss: 0.0106 - accuracy: 0.9963 - val_loss: 0.0902 - val_accuracy: 0.9838\n",
      "Epoch 13/20\n",
      "375/375 [==============================] - 3s 8ms/step - loss: 0.0129 - accuracy: 0.9959 - val_loss: 0.0963 - val_accuracy: 0.9837\n",
      "Epoch 14/20\n",
      "375/375 [==============================] - 3s 8ms/step - loss: 0.0103 - accuracy: 0.9966 - val_loss: 0.0823 - val_accuracy: 0.9874\n",
      "Epoch 15/20\n",
      "375/375 [==============================] - 3s 8ms/step - loss: 0.0100 - accuracy: 0.9969 - val_loss: 0.0969 - val_accuracy: 0.9848\n",
      "Epoch 16/20\n",
      "375/375 [==============================] - 3s 9ms/step - loss: 0.0150 - accuracy: 0.9955 - val_loss: 0.0870 - val_accuracy: 0.9845\n",
      "Epoch 17/20\n",
      "375/375 [==============================] - 3s 8ms/step - loss: 0.0059 - accuracy: 0.9978 - val_loss: 0.0844 - val_accuracy: 0.9850\n",
      "Epoch 18/20\n",
      "375/375 [==============================] - 3s 8ms/step - loss: 0.0072 - accuracy: 0.9977 - val_loss: 0.0993 - val_accuracy: 0.9842\n",
      "Epoch 19/20\n",
      "375/375 [==============================] - 3s 8ms/step - loss: 0.0114 - accuracy: 0.9968 - val_loss: 0.0884 - val_accuracy: 0.9864\n",
      "Epoch 20/20\n",
      "375/375 [==============================] - 3s 8ms/step - loss: 0.0138 - accuracy: 0.9960 - val_loss: 0.0932 - val_accuracy: 0.9850\n"
     ]
    }
   ],
   "source": [
    "model.compile(loss='categorical_crossentropy', optimizer='adam', metrics=['accuracy'])\n",
    "history = model.fit(X_train, Y_train, batch_size=128, epochs=20, validation_split=0.2)"
   ]
  },
  {
   "cell_type": "markdown",
   "metadata": {},
   "source": [
    "### Image data augmentation\n",
    "케라스에서는 ImageDataGenerate 함수로 Data augmentation 기능을  제공\n",
    "\n",
    "https://keras.io/preprocessing/image/#imagedatagenerator-class"
   ]
  },
  {
   "cell_type": "code",
   "execution_count": 19,
   "metadata": {},
   "outputs": [],
   "source": [
    "from keras.preprocessing.image import ImageDataGenerator, img_to_array"
   ]
  },
  {
   "cell_type": "code",
   "execution_count": 19,
   "metadata": {},
   "outputs": [],
   "source": [
    "datagen = ImageDataGenerator(\n",
    "    featurewise_center = False,\n",
    "    samplewise_center = False,\n",
    "    featurewise_std_normalization = False,\n",
    "    samplewise_std_normalization = False,\n",
    "    zca_whitening = False,\n",
    "    rotation_range = 10, # 회전\n",
    "    zoom_range = 0.1, # 확대 축소\n",
    "    width_shift_range = 0.1, # 수평 이동\n",
    "    height_shift_range = 0.1, # 수직 이동\n",
    "    horizontal_flip = False, # 수평 반전\n",
    "    vertical_flip = False # 수직 반전\n",
    ")\n",
    "\n",
    "datagen.fit(X_train)"
   ]
  },
  {
   "cell_type": "markdown",
   "metadata": {},
   "source": [
    "ImageDataGenerator로 생성하는 데이터를 학습하기 위해서는 fit() 함수가 아닌 fit_generator() 함수를 사용해야함"
   ]
  },
  {
   "cell_type": "code",
   "execution_count": 20,
   "metadata": {
    "scrolled": true
   },
   "outputs": [
    {
     "name": "stdout",
     "output_type": "stream",
     "text": [
      "WARNING:tensorflow:From <ipython-input-20-37516dab630f>:7: Model.fit_generator (from tensorflow.python.keras.engine.training) is deprecated and will be removed in a future version.\n",
      "Instructions for updating:\n",
      "Please use Model.fit, which supports generators.\n",
      "Epoch 1/20\n",
      "100/100 [==============================] - 24s 237ms/step - loss: 1.9146 - accuracy: 0.6847 - val_loss: 0.2029 - val_accuracy: 0.9383\n",
      "Epoch 2/20\n",
      "100/100 [==============================] - 22s 222ms/step - loss: 0.2410 - accuracy: 0.9248 - val_loss: 0.1127 - val_accuracy: 0.9668\n",
      "Epoch 3/20\n",
      "100/100 [==============================] - 22s 221ms/step - loss: 0.1489 - accuracy: 0.9537 - val_loss: 0.0754 - val_accuracy: 0.9788\n",
      "Epoch 4/20\n",
      "100/100 [==============================] - 22s 221ms/step - loss: 0.1151 - accuracy: 0.9646 - val_loss: 0.0705 - val_accuracy: 0.9782\n",
      "Epoch 5/20\n",
      "100/100 [==============================] - 24s 243ms/step - loss: 0.0956 - accuracy: 0.9704 - val_loss: 0.0602 - val_accuracy: 0.9827\n",
      "Epoch 6/20\n",
      "100/100 [==============================] - 25s 246ms/step - loss: 0.0809 - accuracy: 0.9745 - val_loss: 0.0540 - val_accuracy: 0.9848\n",
      "Epoch 7/20\n",
      "100/100 [==============================] - 24s 241ms/step - loss: 0.0732 - accuracy: 0.9773 - val_loss: 0.0508 - val_accuracy: 0.9843\n",
      "Epoch 8/20\n",
      "100/100 [==============================] - 25s 245ms/step - loss: 0.0650 - accuracy: 0.9793 - val_loss: 0.0463 - val_accuracy: 0.9868\n",
      "Epoch 9/20\n",
      "100/100 [==============================] - 24s 242ms/step - loss: 0.0594 - accuracy: 0.9816 - val_loss: 0.0487 - val_accuracy: 0.9853\n",
      "Epoch 10/20\n",
      "100/100 [==============================] - 24s 238ms/step - loss: 0.0574 - accuracy: 0.9816 - val_loss: 0.0475 - val_accuracy: 0.9870\n",
      "Epoch 11/20\n",
      "100/100 [==============================] - 22s 221ms/step - loss: 0.0543 - accuracy: 0.9830 - val_loss: 0.0429 - val_accuracy: 0.9874\n",
      "Epoch 12/20\n",
      "100/100 [==============================] - 22s 221ms/step - loss: 0.0507 - accuracy: 0.9840 - val_loss: 0.0413 - val_accuracy: 0.9881\n",
      "Epoch 13/20\n",
      "100/100 [==============================] - 22s 218ms/step - loss: 0.0473 - accuracy: 0.9849 - val_loss: 0.0433 - val_accuracy: 0.9878\n",
      "Epoch 14/20\n",
      "100/100 [==============================] - 22s 220ms/step - loss: 0.0446 - accuracy: 0.9858 - val_loss: 0.0397 - val_accuracy: 0.9879\n",
      "Epoch 15/20\n",
      "100/100 [==============================] - 22s 215ms/step - loss: 0.0425 - accuracy: 0.9865 - val_loss: 0.0448 - val_accuracy: 0.9885\n",
      "Epoch 16/20\n",
      "100/100 [==============================] - 22s 219ms/step - loss: 0.0412 - accuracy: 0.9870 - val_loss: 0.0365 - val_accuracy: 0.9889\n",
      "Epoch 17/20\n",
      "100/100 [==============================] - 22s 221ms/step - loss: 0.0400 - accuracy: 0.9869 - val_loss: 0.0362 - val_accuracy: 0.9896\n",
      "Epoch 18/20\n",
      "100/100 [==============================] - 22s 217ms/step - loss: 0.0384 - accuracy: 0.9877 - val_loss: 0.0346 - val_accuracy: 0.9894\n",
      "Epoch 19/20\n",
      "100/100 [==============================] - 22s 218ms/step - loss: 0.0363 - accuracy: 0.9882 - val_loss: 0.0396 - val_accuracy: 0.9891\n",
      "Epoch 20/20\n",
      "100/100 [==============================] - 22s 218ms/step - loss: 0.0354 - accuracy: 0.9887 - val_loss: 0.0389 - val_accuracy: 0.9889\n"
     ]
    },
    {
     "data": {
      "text/plain": [
       "<tensorflow.python.keras.callbacks.History at 0x7fa6b687c310>"
      ]
     },
     "execution_count": 20,
     "metadata": {},
     "output_type": "execute_result"
    }
   ],
   "source": [
    "model = CNN_(n_in, n_out)\n",
    "model.compile(loss='categorical_crossentropy', optimizer='adam', metrics=['accuracy'])\n",
    "model.fit_generator(datagen.flow(X_train[:-10000], Y_train[:-10000], batch_size = 1000),\n",
    "                   epochs = 20,\n",
    "                   validation_data = (X_train[-10000:], Y_train[-10000:]),\n",
    "                   steps_per_epoch = 100, #epoch당 datagen을 호출하는 횟수\n",
    "                   verbose = 1)\n",
    "\n",
    "#총 데이터셋의 크기는 batch_size*steps_per_epoch"
   ]
  },
  {
   "cell_type": "markdown",
   "metadata": {},
   "source": [
    "## 3.3 Transfer learning"
   ]
  },
  {
   "cell_type": "markdown",
   "metadata": {},
   "source": [
    "CIFAR-10 데이터셋은 아래와 같이 총 10개의 label로 이루어진 이미지 분류를 위한 데이터셋이다.\n",
    "\n",
    "airplane, automobile, bird, cat, deer, dog, frog, horse, ship, and truck.\n",
    "\n",
    "각각의 레이블마다 32×32 크기 이미지인 50,000개의 training 데이터셋, 10,000개의 test 데이터셋이 존재하고, 결과적으로 총 60,000개의 32×32 크기의 이미지로 데이터셋이 구성되어 있다.\n",
    "\n",
    "mnist와 다르게 3개의 channel을 가지고 있다."
   ]
  },
  {
   "cell_type": "markdown",
   "metadata": {},
   "source": [
    "## (1) 데이터셋 준비"
   ]
  },
  {
   "cell_type": "code",
   "execution_count": 195,
   "metadata": {},
   "outputs": [
    {
     "name": "stdout",
     "output_type": "stream",
     "text": [
      "(50000, 32, 32, 3) (50000, 1)\n"
     ]
    }
   ],
   "source": [
    "(X_train, Y_train), (X_test, Y_test) = datasets.cifar10.load_data()\n",
    "print(X_train.shape, Y_train.shape)"
   ]
  },
  {
   "cell_type": "code",
   "execution_count": 196,
   "metadata": {},
   "outputs": [
    {
     "name": "stdout",
     "output_type": "stream",
     "text": [
      "label :  [6]\n"
     ]
    },
    {
     "data": {
      "text/plain": [
       "<matplotlib.image.AxesImage at 0x7ff29da8f650>"
      ]
     },
     "execution_count": 196,
     "metadata": {},
     "output_type": "execute_result"
    },
    {
     "data": {
      "image/png": "[encoded data removed]",
      "text/plain": [
       "<Figure size 432x288 with 1 Axes>"
      ]
     },
     "metadata": {
      "needs_background": "light"
     },
     "output_type": "display_data"
    }
   ],
   "source": [
    "print('label : ',Y_train[0])\n",
    "plt.imshow(X_train[0])"
   ]
  },
  {
   "cell_type": "code",
   "execution_count": 197,
   "metadata": {},
   "outputs": [
    {
     "name": "stdout",
     "output_type": "stream",
     "text": [
      "(50000, 32, 32, 3) (50000, 10)\n"
     ]
    }
   ],
   "source": [
    "Y_train = np_utils.to_categorical(Y_train)\n",
    "Y_test = np_utils.to_categorical(Y_test)\n",
    "\n",
    "print(X_train.shape, Y_train.shape)"
   ]
  },
  {
   "cell_type": "markdown",
   "metadata": {},
   "source": [
    "## (2) 모델링 <Transfer learning>\n",
    "    \n",
    "사용가능 네트워크 :\n",
    "https://keras.io/api/applications/"
   ]
  },
  {
   "cell_type": "code",
   "execution_count": 199,
   "metadata": {},
   "outputs": [],
   "source": [
    "from keras.applications.vgg16 import VGG16, preprocess_input"
   ]
  },
  {
   "cell_type": "code",
   "execution_count": 200,
   "metadata": {},
   "outputs": [
    {
     "name": "stdout",
     "output_type": "stream",
     "text": [
      "Model: \"vgg16\"\n",
      "_________________________________________________________________\n",
      "Layer (type)                 Output Shape              Param #   \n",
      "=================================================================\n",
      "input_30 (InputLayer)        [(None, 32, 32, 3)]       0         \n",
      "_________________________________________________________________\n",
      "block1_conv1 (Conv2D)        (None, 32, 32, 64)        1792      \n",
      "_________________________________________________________________\n",
      "block1_conv2 (Conv2D)        (None, 32, 32, 64)        36928     \n",
      "_________________________________________________________________\n",
      "block1_pool (MaxPooling2D)   (None, 16, 16, 64)        0         \n",
      "_________________________________________________________________\n",
      "block2_conv1 (Conv2D)        (None, 16, 16, 128)       73856     \n",
      "_________________________________________________________________\n",
      "block2_conv2 (Conv2D)        (None, 16, 16, 128)       147584    \n",
      "_________________________________________________________________\n",
      "block2_pool (MaxPooling2D)   (None, 8, 8, 128)         0         \n",
      "_________________________________________________________________\n",
      "block3_conv1 (Conv2D)        (None, 8, 8, 256)         295168    \n",
      "_________________________________________________________________\n",
      "block3_conv2 (Conv2D)        (None, 8, 8, 256)         590080    \n",
      "_________________________________________________________________\n",
      "block3_conv3 (Conv2D)        (None, 8, 8, 256)         590080    \n",
      "_________________________________________________________________\n",
      "block3_pool (MaxPooling2D)   (None, 4, 4, 256)         0         \n",
      "_________________________________________________________________\n",
      "block4_conv1 (Conv2D)        (None, 4, 4, 512)         1180160   \n",
      "_________________________________________________________________\n",
      "block4_conv2 (Conv2D)        (None, 4, 4, 512)         2359808   \n",
      "_________________________________________________________________\n",
      "block4_conv3 (Conv2D)        (None, 4, 4, 512)         2359808   \n",
      "_________________________________________________________________\n",
      "block4_pool (MaxPooling2D)   (None, 2, 2, 512)         0         \n",
      "_________________________________________________________________\n",
      "block5_conv1 (Conv2D)        (None, 2, 2, 512)         2359808   \n",
      "_________________________________________________________________\n",
      "block5_conv2 (Conv2D)        (None, 2, 2, 512)         2359808   \n",
      "_________________________________________________________________\n",
      "block5_conv3 (Conv2D)        (None, 2, 2, 512)         2359808   \n",
      "_________________________________________________________________\n",
      "block5_pool (MaxPooling2D)   (None, 1, 1, 512)         0         \n",
      "=================================================================\n",
      "Total params: 14,714,688\n",
      "Trainable params: 14,714,688\n",
      "Non-trainable params: 0\n",
      "_________________________________________________________________\n"
     ]
    }
   ],
   "source": [
    "base_model = VGG16(weights='imagenet', input_shape=(32,32,3), include_top=False)\n",
    "# base_model = VGG16(weights=None, input_shape=(32,32,3), include_top=False)\n",
    "base_model.summary()"
   ]
  },
  {
   "cell_type": "code",
   "execution_count": 201,
   "metadata": {},
   "outputs": [],
   "source": [
    "import seaborn as sns"
   ]
  },
  {
   "cell_type": "code",
   "execution_count": 202,
   "metadata": {},
   "outputs": [
    {
     "name": "stdout",
     "output_type": "stream",
     "text": [
      "block1_conv1\n"
     ]
    },
    {
     "data": {
      "text/plain": [
       "<matplotlib.axes._subplots.AxesSubplot at 0x7ff29da37f50>"
      ]
     },
     "execution_count": 202,
     "metadata": {},
     "output_type": "execute_result"
    },
    {
     "data": {
      "image/png": "[encoded data removed]",
      "text/plain": [
       "<Figure size 432x288 with 1 Axes>"
      ]
     },
     "metadata": {
      "needs_background": "light"
     },
     "output_type": "display_data"
    }
   ],
   "source": [
    "print(base_model.layers[1].name)\n",
    "sns.distplot(base_model.layers[1].weights[1].numpy())"
   ]
  },
  {
   "cell_type": "code",
   "execution_count": 203,
   "metadata": {},
   "outputs": [],
   "source": [
    "x = base_model.output\n",
    "x = Flatten()(x)\n",
    "# let's add a fully-connected layer\n",
    "x = Dense(256, activation='relu')(x)\n",
    "# and a logistic layer -- let's say we have 10 classes\n",
    "predictions = Dense(Y_train.shape[1], activation='softmax')(x)"
   ]
  },
  {
   "cell_type": "code",
   "execution_count": 204,
   "metadata": {},
   "outputs": [],
   "source": [
    "# this is the model we will train\n",
    "model = Model(inputs=base_model.input, outputs=predictions)"
   ]
  },
  {
   "cell_type": "code",
   "execution_count": 205,
   "metadata": {},
   "outputs": [],
   "source": [
    "# first: train only the top layers (which were randomly initialized)\n",
    "for layer in base_model.layers:\n",
    "    layer.trainable = False"
   ]
  },
  {
   "cell_type": "code",
   "execution_count": 206,
   "metadata": {},
   "outputs": [
    {
     "name": "stdout",
     "output_type": "stream",
     "text": [
      "Model: \"model_12\"\n",
      "_________________________________________________________________\n",
      "Layer (type)                 Output Shape              Param #   \n",
      "=================================================================\n",
      "input_30 (InputLayer)        [(None, 32, 32, 3)]       0         \n",
      "_________________________________________________________________\n",
      "block1_conv1 (Conv2D)        (None, 32, 32, 64)        1792      \n",
      "_________________________________________________________________\n",
      "block1_conv2 (Conv2D)        (None, 32, 32, 64)        36928     \n",
      "_________________________________________________________________\n",
      "block1_pool (MaxPooling2D)   (None, 16, 16, 64)        0         \n",
      "_________________________________________________________________\n",
      "block2_conv1 (Conv2D)        (None, 16, 16, 128)       73856     \n",
      "_________________________________________________________________\n",
      "block2_conv2 (Conv2D)        (None, 16, 16, 128)       147584    \n",
      "_________________________________________________________________\n",
      "block2_pool (MaxPooling2D)   (None, 8, 8, 128)         0         \n",
      "_________________________________________________________________\n",
      "block3_conv1 (Conv2D)        (None, 8, 8, 256)         295168    \n",
      "_________________________________________________________________\n",
      "block3_conv2 (Conv2D)        (None, 8, 8, 256)         590080    \n",
      "_________________________________________________________________\n",
      "block3_conv3 (Conv2D)        (None, 8, 8, 256)         590080    \n",
      "_________________________________________________________________\n",
      "block3_pool (MaxPooling2D)   (None, 4, 4, 256)         0         \n",
      "_________________________________________________________________\n",
      "block4_conv1 (Conv2D)        (None, 4, 4, 512)         1180160   \n",
      "_________________________________________________________________\n",
      "block4_conv2 (Conv2D)        (None, 4, 4, 512)         2359808   \n",
      "_________________________________________________________________\n",
      "block4_conv3 (Conv2D)        (None, 4, 4, 512)         2359808   \n",
      "_________________________________________________________________\n",
      "block4_pool (MaxPooling2D)   (None, 2, 2, 512)         0         \n",
      "_________________________________________________________________\n",
      "block5_conv1 (Conv2D)        (None, 2, 2, 512)         2359808   \n",
      "_________________________________________________________________\n",
      "block5_conv2 (Conv2D)        (None, 2, 2, 512)         2359808   \n",
      "_________________________________________________________________\n",
      "block5_conv3 (Conv2D)        (None, 2, 2, 512)         2359808   \n",
      "_________________________________________________________________\n",
      "block5_pool (MaxPooling2D)   (None, 1, 1, 512)         0         \n",
      "_________________________________________________________________\n",
      "flatten_14 (Flatten)         (None, 512)               0         \n",
      "_________________________________________________________________\n",
      "dense_28 (Dense)             (None, 256)               131328    \n",
      "_________________________________________________________________\n",
      "dense_29 (Dense)             (None, 10)                2570      \n",
      "=================================================================\n",
      "Total params: 14,848,586\n",
      "Trainable params: 133,898\n",
      "Non-trainable params: 14,714,688\n",
      "_________________________________________________________________\n"
     ]
    }
   ],
   "source": [
    "model.summary()"
   ]
  },
  {
   "cell_type": "markdown",
   "metadata": {},
   "source": [
    "## (3) 모델의 학습과정 설정"
   ]
  },
  {
   "cell_type": "code",
   "execution_count": 207,
   "metadata": {},
   "outputs": [],
   "source": [
    "model.compile(optimizer='rmsprop', loss='categorical_crossentropy', metrics=['accuracy'])"
   ]
  },
  {
   "cell_type": "markdown",
   "metadata": {},
   "source": [
    "## (4) 모델 학습시키기"
   ]
  },
  {
   "cell_type": "code",
   "execution_count": 208,
   "metadata": {
    "scrolled": true
   },
   "outputs": [
    {
     "name": "stdout",
     "output_type": "stream",
     "text": [
      "Epoch 1/20\n",
      "313/313 [==============================] - 7s 22ms/step - loss: 3.4638 - accuracy: 0.4574 - val_loss: 1.5913 - val_accuracy: 0.4980\n",
      "Epoch 2/20\n",
      "313/313 [==============================] - 7s 21ms/step - loss: 1.2735 - accuracy: 0.5827 - val_loss: 1.3661 - val_accuracy: 0.5667\n",
      "Epoch 3/20\n",
      "313/313 [==============================] - 7s 21ms/step - loss: 1.0518 - accuracy: 0.6460 - val_loss: 1.3826 - val_accuracy: 0.5735\n",
      "Epoch 4/20\n",
      "313/313 [==============================] - 7s 21ms/step - loss: 0.9263 - accuracy: 0.6864 - val_loss: 1.4147 - val_accuracy: 0.5867\n",
      "Epoch 5/20\n",
      "313/313 [==============================] - 6s 21ms/step - loss: 0.8327 - accuracy: 0.7160 - val_loss: 1.5383 - val_accuracy: 0.5764\n",
      "Epoch 6/20\n",
      "313/313 [==============================] - 6s 20ms/step - loss: 0.7554 - accuracy: 0.7420 - val_loss: 1.5935 - val_accuracy: 0.5823\n",
      "Epoch 7/20\n",
      "313/313 [==============================] - 7s 21ms/step - loss: 0.6822 - accuracy: 0.7650 - val_loss: 1.6992 - val_accuracy: 0.5818\n",
      "Epoch 8/20\n",
      "313/313 [==============================] - 7s 21ms/step - loss: 0.6197 - accuracy: 0.7865 - val_loss: 1.8345 - val_accuracy: 0.5760\n",
      "Epoch 9/20\n",
      "313/313 [==============================] - 7s 21ms/step - loss: 0.5655 - accuracy: 0.8050 - val_loss: 1.9236 - val_accuracy: 0.5781\n",
      "Epoch 10/20\n",
      "313/313 [==============================] - 6s 21ms/step - loss: 0.5155 - accuracy: 0.8220 - val_loss: 2.0997 - val_accuracy: 0.5798\n",
      "Epoch 11/20\n",
      "313/313 [==============================] - 7s 21ms/step - loss: 0.4748 - accuracy: 0.8349 - val_loss: 2.2277 - val_accuracy: 0.5700\n",
      "Epoch 12/20\n",
      "313/313 [==============================] - 7s 22ms/step - loss: 0.4311 - accuracy: 0.8514 - val_loss: 2.3673 - val_accuracy: 0.5769\n",
      "Epoch 13/20\n",
      "313/313 [==============================] - 7s 21ms/step - loss: 0.3985 - accuracy: 0.8660 - val_loss: 2.5676 - val_accuracy: 0.5706\n",
      "Epoch 14/20\n",
      "313/313 [==============================] - 7s 22ms/step - loss: 0.3719 - accuracy: 0.8728 - val_loss: 2.6696 - val_accuracy: 0.5674\n",
      "Epoch 15/20\n",
      "313/313 [==============================] - 7s 21ms/step - loss: 0.3388 - accuracy: 0.8831 - val_loss: 2.9011 - val_accuracy: 0.5760\n",
      "Epoch 16/20\n",
      "313/313 [==============================] - 7s 21ms/step - loss: 0.3170 - accuracy: 0.8929 - val_loss: 3.0249 - val_accuracy: 0.5711\n",
      "Epoch 17/20\n",
      "313/313 [==============================] - 7s 21ms/step - loss: 0.2920 - accuracy: 0.8997 - val_loss: 3.2326 - val_accuracy: 0.5719\n",
      "Epoch 18/20\n",
      "313/313 [==============================] - 6s 20ms/step - loss: 0.2710 - accuracy: 0.9064 - val_loss: 3.4047 - val_accuracy: 0.5696\n",
      "Epoch 19/20\n",
      "313/313 [==============================] - 7s 21ms/step - loss: 0.2537 - accuracy: 0.9127 - val_loss: 3.5517 - val_accuracy: 0.5656\n",
      "Epoch 20/20\n",
      "313/313 [==============================] - 6s 21ms/step - loss: 0.2383 - accuracy: 0.9193 - val_loss: 3.6913 - val_accuracy: 0.5710\n"
     ]
    }
   ],
   "source": [
    "history = model.fit(X_train, Y_train, batch_size=128, epochs=20, validation_split=0.2)"
   ]
  },
  {
   "cell_type": "markdown",
   "metadata": {},
   "source": [
    "## (5) 모델 평가하기"
   ]
  },
  {
   "cell_type": "code",
   "execution_count": 209,
   "metadata": {},
   "outputs": [
    {
     "name": "stdout",
     "output_type": "stream",
     "text": [
      "79/79 [==============================] - 1s 16ms/step - loss: 3.5897 - accuracy: 0.5711\n",
      "loss : 3.5897, accruracy : 0.5711\n"
     ]
    }
   ],
   "source": [
    "loss_and_accuracy = model.evaluate(X_test, Y_test, batch_size=128)\n",
    "print('loss : %.4f, accruracy : %.4f'%(loss_and_accuracy[0],loss_and_accuracy[1]))"
   ]
  },
  {
   "cell_type": "code",
   "execution_count": null,
   "metadata": {},
   "outputs": [],
   "source": []
  }
 ],
 "metadata": {
  "kernelspec": {
   "display_name": "Python 3",
   "language": "python",
   "name": "python3"
  },
  "language_info": {
   "codemirror_mode": {
    "name": "ipython",
    "version": 3
   },
   "file_extension": ".py",
   "mimetype": "text/x-python",
   "name": "python",
   "nbconvert_exporter": "python",
   "pygments_lexer": "ipython3",
   "version": "3.8.5"
  }
 },
 "nbformat": 4,
 "nbformat_minor": 4
}
