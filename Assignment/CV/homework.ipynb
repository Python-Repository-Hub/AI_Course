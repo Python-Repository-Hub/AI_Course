{
 "cells": [
  {
   "cell_type": "code",
   "execution_count": 1,
   "metadata": {},
   "outputs": [
    {
     "name": "stdout",
     "output_type": "stream",
     "text": [
      "[name: \"/device:CPU:0\"\n",
      "device_type: \"CPU\"\n",
      "memory_limit: 268435456\n",
      "locality {\n",
      "}\n",
      "incarnation: 15616340759142144696\n",
      ", name: \"/device:GPU:0\"\n",
      "device_type: \"GPU\"\n",
      "memory_limit: 7243933952\n",
      "locality {\n",
      "  bus_id: 1\n",
      "  links {\n",
      "  }\n",
      "}\n",
      "incarnation: 6303112075148382388\n",
      "physical_device_desc: \"device: 0, name: GeForce RTX 2080, pci bus id: 0000:17:00.0, compute capability: 7.5\"\n",
      ", name: \"/device:GPU:1\"\n",
      "device_type: \"GPU\"\n",
      "memory_limit: 6462304416\n",
      "locality {\n",
      "  bus_id: 1\n",
      "  links {\n",
      "  }\n",
      "}\n",
      "incarnation: 17174152239813122194\n",
      "physical_device_desc: \"device: 1, name: GeForce RTX 2080, pci bus id: 0000:b3:00.0, compute capability: 7.5\"\n",
      "]\n"
     ]
    }
   ],
   "source": [
    "# GPU 사용확인\n",
    "from tensorflow.python.client import device_lib\n",
    "print(device_lib.list_local_devices())"
   ]
  },
  {
   "cell_type": "markdown",
   "metadata": {},
   "source": [
    "# cifar100 데이터셋 학습 (to do)"
   ]
  },
  {
   "cell_type": "markdown",
   "metadata": {},
   "source": [
    "CIFAR-100 데이터셋은 총 100개의 label로 이루어진 이미지 분류를 위한 데이터셋이다.\n",
    "\n",
    "`각각의 레이블마다 32×32 크기 이미지인 50,000개의 training 데이터셋, 10,000개의 test 데이터셋이 존재하고, 결과적으로 총 60,000개의 32×32 크기의 이미지로 데이터셋이 구성되어 있다."
   ]
  },
  {
   "cell_type": "markdown",
   "metadata": {},
   "source": [
    "## (1) 데이터셋 준비"
   ]
  },
  {
   "cell_type": "code",
   "execution_count": 1,
   "metadata": {},
   "outputs": [],
   "source": [
    "import keras\n",
    "import keras.backend as K\n",
    "\n",
    "from keras.utils import np_utils\n",
    "from keras import datasets\n",
    "from keras.models import Sequential, Model\n",
    "from keras.optimizers import Adam, SGD\n",
    "from keras.layers import Input, Dense, Activation\n",
    "from keras.layers import Flatten, BatchNormalization, Dropout, ReLU, GlobalMaxPooling2D, GlobalAveragePooling2D\n",
    "from keras.layers.convolutional import Conv2D\n",
    "from keras.layers.convolutional import MaxPooling2D\n",
    "from keras.layers.convolutional import ZeroPadding2D\n",
    "from keras.regularizers import l2\n",
    "from keras.callbacks import EarlyStopping, ReduceLROnPlateau\n",
    "from keras.preprocessing.image import ImageDataGenerator\n",
    "from keras.utils import to_categorical\n",
    "\n",
    "\n",
    "import albumentations as albu\n",
    "from sklearn.model_selection import train_test_split, StratifiedShuffleSplit\n",
    "from sklearn.metrics import accuracy_score\n",
    "\n",
    "import os\n",
    "import cv2\n",
    "import numpy as np\n",
    "import matplotlib.pyplot as plt\n",
    "%matplotlib inline"
   ]
  },
  {
   "cell_type": "code",
   "execution_count": 25,
   "metadata": {},
   "outputs": [
    {
     "name": "stdout",
     "output_type": "stream",
     "text": [
      "(50000, 32, 32, 3) (50000, 1)\n"
     ]
    }
   ],
   "source": [
    "(X, y), (X_test, y_test) = datasets.cifar100.load_data()\n",
    "print(X.shape, y.shape)"
   ]
  },
  {
   "cell_type": "code",
   "execution_count": 3,
   "metadata": {},
   "outputs": [
    {
     "name": "stdout",
     "output_type": "stream",
     "text": [
      "label :  [19]\n"
     ]
    },
    {
     "data": {
      "text/plain": [
       "<matplotlib.image.AxesImage at 0x7f79a8ea4730>"
      ]
     },
     "execution_count": 3,
     "metadata": {},
     "output_type": "execute_result"
    },
    {
     "data": {
      "image/png": "[encoded data removed]",
      "text/plain": [
       "<Figure size 432x288 with 1 Axes>"
      ]
     },
     "metadata": {
      "needs_background": "light"
     },
     "output_type": "display_data"
    }
   ],
   "source": [
    "print('label : ',y[0])\n",
    "plt.imshow(X[0])"
   ]
  },
  {
   "cell_type": "code",
   "execution_count": 4,
   "metadata": {},
   "outputs": [
    {
     "name": "stdout",
     "output_type": "stream",
     "text": [
      "The number of training data :  40000\n",
      "The number of validation data :  10000\n"
     ]
    }
   ],
   "source": [
    "# Spliting the training data into a training data and a validation data.\n",
    "st = StratifiedShuffleSplit(n_splits = 2, test_size = 0.2, random_state = 1)\n",
    "for train_index, val_index in st.split(X, y):\n",
    "    X_train, X_val, y_train, y_val = X[train_index], X[val_index], y[train_index], y[val_index]\n",
    "    \n",
    "print(\"The number of training data : \", X_train.shape[0])\n",
    "print(\"The number of validation data : \", X_val.shape[0])"
   ]
  },
  {
   "cell_type": "markdown",
   "metadata": {},
   "source": [
    "## (2) 모델링"
   ]
  },
  {
   "cell_type": "code",
   "execution_count": 5,
   "metadata": {},
   "outputs": [],
   "source": [
    "# parameters for data\n",
    "height = 224\n",
    "width = 224\n",
    "channels = 3\n",
    "input_shape = (height, width, channels)\n",
    "n_classes = 100\n",
    "\n",
    "# parameters for optimizers\n",
    "lr = 1e-3\n",
    "\n",
    "# Parameters for training\n",
    "epochs = 50\n",
    "batch_size = 8\n",
    "\n",
    "# parameters for callback functions\n",
    "es_patience = 10\n",
    "rlrop_patience = 5\n",
    "decay_rate = 0.5"
   ]
  },
  {
   "cell_type": "code",
   "execution_count": 6,
   "metadata": {},
   "outputs": [],
   "source": [
    "def np_resize(img, shape):\n",
    "    return cv2.resize(img, (shape[1], shape[0]), interpolation = cv2.INTER_CUBIC)"
   ]
  },
  {
   "cell_type": "code",
   "execution_count": 7,
   "metadata": {},
   "outputs": [],
   "source": [
    "class DataGenerator(keras.utils.Sequence):\n",
    "    'Generates data for keras'\n",
    "    def __init__(self, images , labels = None, mode = 'fit', batch_size = batch_size,\n",
    "                 dim = (height, width), channels = channels, n_classes = n_classes,\n",
    "                 shuffle = True, augment = False):\n",
    "        self.images = images\n",
    "        self.labels = labels\n",
    "        self.mode = mode\n",
    "        self.batch_size = batch_size\n",
    "        self.dim = dim\n",
    "        self.channels = channels\n",
    "        self.n_classes = n_classes\n",
    "        self.shuffle = shuffle\n",
    "        self.augment = augment\n",
    "        \n",
    "        self.on_epoch_end()\n",
    "        \n",
    "    def on_epoch_end(self):\n",
    "        'Updates indexes after each epoch'\n",
    "        self.indexes = np.arange(self.images.shape[0])\n",
    "        if self.shuffle == True:\n",
    "            np.random.shuffle(self.indexes)\n",
    "            \n",
    "    def __len__(self):\n",
    "        'Denotes the number of batches per epoch'\n",
    "        return int(np.floor(len(self.images) / self.batch_size))\n",
    "        \n",
    "    def __getitem__(self, index):\n",
    "        'Generate one batch of data'\n",
    "        batch_indexes = self.indexes[index*self.batch_size:(index+1)*self.batch_size]\n",
    "\n",
    "        # =========================================================== #\n",
    "        # Generate mini-batch of X\n",
    "        # =========================================================== #\n",
    "        X = np.empty((self.batch_size, *self.dim, self.channels))\n",
    "        for i, ID in enumerate(batch_indexes):\n",
    "            # Generate a preprocessed image\n",
    "            img = self.images[ID]\n",
    "            img = img.astype(np.float32) / 255.\n",
    "            img = np_resize(img, self.dim)\n",
    "            X[i] = img\n",
    "            \n",
    "        \n",
    "        # =========================================================== #\n",
    "        # Generate mini-batch of y\n",
    "        # =========================================================== #\n",
    "        if self.mode == 'fit':\n",
    "            y = self.labels[batch_indexes]\n",
    "            y = to_categorical(y, n_classes)\n",
    "            '''\n",
    "            y = np.zeros((self.batch_size, self.n_classes), dtype = np.uint8)\n",
    "            for i, ID in enumerate(batch_indexes):\n",
    "                # one hot encoded label\n",
    "                y[i, self.labels[ID]] = 1\n",
    "            '''\n",
    "            # Augmentation should only be implemented in the training part.\n",
    "            if self.augment == True:\n",
    "                X = self.__augment_batch(X)                \n",
    "            \n",
    "            return X,y\n",
    "        \n",
    "        elif self.mode == 'predict':\n",
    "            return X       \n",
    "        \n",
    "        else:\n",
    "            raise AttributeError('The mode parameters should be set to \"fit\" or \"predict\"')\n",
    "            \n",
    "    def __random_transform(self, img):\n",
    "        composition = albu.Compose([albu.HorizontalFlip(p = 0.5),\n",
    "                                    albu.VerticalFlip(p = 0.5),\n",
    "                                    albu.GridDistortion(p = 0.2),\n",
    "                                    albu.ElasticTransform(p = 0.2)])\n",
    "        \n",
    "        return composition(image = img)['image']\n",
    "        \n",
    "    \n",
    "    def __augment_batch(self, img_batch):\n",
    "        for i in range(img_batch.shape[0]):\n",
    "            img_batch[i] = self.__random_transform(img_batch[i])\n",
    "            \n",
    "        return img_batch"
   ]
  },
  {
   "cell_type": "code",
   "execution_count": 8,
   "metadata": {},
   "outputs": [],
   "source": [
    "train_generator = DataGenerator(X_train, y_train, augment = True)\n",
    "valid_generator = DataGenerator(X_val, y_val, augment = False)"
   ]
  },
  {
   "cell_type": "code",
   "execution_count": 9,
   "metadata": {},
   "outputs": [
    {
     "name": "stdout",
     "output_type": "stream",
     "text": [
      "Model: \"sequential\"\n",
      "_________________________________________________________________\n",
      "Layer (type)                 Output Shape              Param #   \n",
      "=================================================================\n",
      "efficientnet-b7 (Functional) (None, 7, 7, 2560)        64097680  \n",
      "_________________________________________________________________\n",
      "global_average_pooling2d (Gl (None, 2560)              0         \n",
      "_________________________________________________________________\n",
      "dropout (Dropout)            (None, 2560)              0         \n",
      "_________________________________________________________________\n",
      "dense (Dense)                (None, 100)               256100    \n",
      "=================================================================\n",
      "Total params: 64,353,780\n",
      "Trainable params: 64,043,060\n",
      "Non-trainable params: 310,720\n",
      "_________________________________________________________________\n"
     ]
    }
   ],
   "source": [
    "import efficientnet.keras as efn \n",
    "\n",
    "efnb7 = efn.EfficientNetB7(weights = 'imagenet', include_top = False, classes = n_classes, input_shape = input_shape)\n",
    "\n",
    "model = Sequential()\n",
    "model.add(efnb7)\n",
    "model.add(GlobalAveragePooling2D())\n",
    "model.add(Dropout(0.2))\n",
    "model.add(Dense(n_classes, activation = 'softmax'))\n",
    "\n",
    "model.summary()"
   ]
  },
  {
   "cell_type": "code",
   "execution_count": 10,
   "metadata": {},
   "outputs": [
    {
     "data": {
      "image/png": "[encoded data removed]",
      "text/plain": [
       "<IPython.core.display.Image object>"
      ]
     },
     "execution_count": 10,
     "metadata": {},
     "output_type": "execute_result"
    }
   ],
   "source": [
    "from IPython.display import SVG\n",
    "from keras.utils.vis_utils import model_to_dot, plot_model\n",
    "%matplotlib inline\n",
    "\n",
    "SVG(model_to_dot(model, show_shapes=True).create(prog='dot', format='svg'))\n",
    "plot_model(model, to_file = 'mnist_model.png', show_shapes = True, show_layer_names = True)"
   ]
  },
  {
   "cell_type": "markdown",
   "metadata": {},
   "source": [
    "## (3) 모델의 학습과정 설정"
   ]
  },
  {
   "cell_type": "code",
   "execution_count": 11,
   "metadata": {},
   "outputs": [],
   "source": [
    "efnb7.trainable = False\n",
    "adam = Adam(lr=0.001, beta_1=0.9, beta_2=0.999, decay=1e-6, epsilon=None, amsgrad=False)\n",
    "sgd = SGD(lr = lr, momentum = 0.9, nesterov = True)\n",
    "es = EarlyStopping(monitor = 'val_loss', mode = 'min', patience = es_patience, restore_best_weights = True, verbose = 1)\n",
    "rlrop = ReduceLROnPlateau(monitor = 'val_loss', mode = 'min', patience = rlrop_patience, \n",
    "                        factor = decay_rate, min_lr = 1e-6, verbose = 1)\n",
    "\n",
    "model.compile(loss='categorical_crossentropy', optimizer=adam, metrics=['acc'])"
   ]
  },
  {
   "cell_type": "markdown",
   "metadata": {},
   "source": [
    "## (4) 모델 학습시키기"
   ]
  },
  {
   "cell_type": "code",
   "execution_count": 12,
   "metadata": {
    "scrolled": false
   },
   "outputs": [
    {
     "name": "stderr",
     "output_type": "stream",
     "text": [
      "/home/piai/anaconda3/envs/DH/lib/python3.8/site-packages/tensorflow/python/keras/engine/training.py:1844: UserWarning: `Model.fit_generator` is deprecated and will be removed in a future version. Please use `Model.fit`, which supports generators.\n",
      "  warnings.warn('`Model.fit_generator` is deprecated and '\n"
     ]
    },
    {
     "name": "stdout",
     "output_type": "stream",
     "text": [
      "Epoch 1/50\n",
      "5000/5000 [==============================] - 746s 146ms/step - loss: 3.2172 - acc: 0.2531 - val_loss: 1.8108 - val_acc: 0.5149\n",
      "Epoch 2/50\n",
      "5000/5000 [==============================] - 725s 145ms/step - loss: 2.4983 - acc: 0.3837 - val_loss: 1.7087 - val_acc: 0.5437\n",
      "Epoch 3/50\n",
      "5000/5000 [==============================] - 721s 144ms/step - loss: 2.4171 - acc: 0.4080 - val_loss: 1.6947 - val_acc: 0.5479\n",
      "Epoch 4/50\n",
      "5000/5000 [==============================] - 724s 145ms/step - loss: 2.3746 - acc: 0.4157 - val_loss: 1.6460 - val_acc: 0.5607\n",
      "Epoch 5/50\n",
      "5000/5000 [==============================] - 718s 144ms/step - loss: 2.3571 - acc: 0.4211 - val_loss: 1.6281 - val_acc: 0.5674\n",
      "Epoch 6/50\n",
      "5000/5000 [==============================] - 714s 143ms/step - loss: 2.3396 - acc: 0.4264 - val_loss: 1.5997 - val_acc: 0.5702\n",
      "Epoch 7/50\n",
      "5000/5000 [==============================] - 716s 143ms/step - loss: 2.3377 - acc: 0.4335 - val_loss: 1.5904 - val_acc: 0.5758\n",
      "Epoch 8/50\n",
      "5000/5000 [==============================] - 725s 145ms/step - loss: 2.3067 - acc: 0.4340 - val_loss: 1.6082 - val_acc: 0.5692\n",
      "Epoch 9/50\n",
      "5000/5000 [==============================] - 726s 145ms/step - loss: 2.3081 - acc: 0.4384 - val_loss: 1.5736 - val_acc: 0.5782\n",
      "Epoch 10/50\n",
      "5000/5000 [==============================] - 724s 145ms/step - loss: 2.3076 - acc: 0.4391 - val_loss: 1.5587 - val_acc: 0.5837\n",
      "Epoch 11/50\n",
      "5000/5000 [==============================] - 716s 143ms/step - loss: 2.2922 - acc: 0.4443 - val_loss: 1.5646 - val_acc: 0.5850\n",
      "Epoch 12/50\n",
      "5000/5000 [==============================] - 722s 144ms/step - loss: 2.3164 - acc: 0.4394 - val_loss: 1.5578 - val_acc: 0.5863\n",
      "Epoch 13/50\n",
      "5000/5000 [==============================] - 729s 146ms/step - loss: 2.3093 - acc: 0.4391 - val_loss: 1.5703 - val_acc: 0.5813\n",
      "Epoch 14/50\n",
      "5000/5000 [==============================] - 724s 145ms/step - loss: 2.2776 - acc: 0.4487 - val_loss: 1.5610 - val_acc: 0.5869\n",
      "Epoch 15/50\n",
      "5000/5000 [==============================] - 720s 144ms/step - loss: 2.2905 - acc: 0.4462 - val_loss: 1.5579 - val_acc: 0.5809\n",
      "Epoch 16/50\n",
      "5000/5000 [==============================] - 725s 145ms/step - loss: 2.2920 - acc: 0.4445 - val_loss: 1.5491 - val_acc: 0.5848\n",
      "Epoch 17/50\n",
      "5000/5000 [==============================] - 721s 144ms/step - loss: 2.2901 - acc: 0.4419 - val_loss: 1.5513 - val_acc: 0.5924\n",
      "Epoch 18/50\n",
      "5000/5000 [==============================] - 721s 144ms/step - loss: 2.2696 - acc: 0.4549 - val_loss: 1.5261 - val_acc: 0.5941\n",
      "Epoch 19/50\n",
      "5000/5000 [==============================] - 724s 145ms/step - loss: 2.2893 - acc: 0.4492 - val_loss: 1.5464 - val_acc: 0.5897\n",
      "Epoch 20/50\n",
      "5000/5000 [==============================] - 719s 144ms/step - loss: 2.2806 - acc: 0.4517 - val_loss: 1.5306 - val_acc: 0.5986\n",
      "Epoch 21/50\n",
      "5000/5000 [==============================] - 721s 144ms/step - loss: 2.2899 - acc: 0.4495 - val_loss: 1.5067 - val_acc: 0.5991\n",
      "Epoch 22/50\n",
      "5000/5000 [==============================] - 715s 143ms/step - loss: 2.2741 - acc: 0.4522 - val_loss: 1.5131 - val_acc: 0.5963\n",
      "Epoch 23/50\n",
      "5000/5000 [==============================] - 724s 145ms/step - loss: 2.2694 - acc: 0.4543 - val_loss: 1.5216 - val_acc: 0.5997\n",
      "Epoch 24/50\n",
      "5000/5000 [==============================] - 720s 144ms/step - loss: 2.2799 - acc: 0.4513 - val_loss: 1.5332 - val_acc: 0.5922\n",
      "Epoch 25/50\n",
      "5000/5000 [==============================] - 717s 143ms/step - loss: 2.2688 - acc: 0.4588 - val_loss: 1.5159 - val_acc: 0.5994\n",
      "Epoch 26/50\n",
      "5000/5000 [==============================] - 723s 145ms/step - loss: 2.2750 - acc: 0.4477 - val_loss: 1.5317 - val_acc: 0.5881\n",
      "\n",
      "Epoch 00026: ReduceLROnPlateau reducing learning rate to 0.0005000000237487257.\n",
      "Epoch 27/50\n",
      "5000/5000 [==============================] - 725s 145ms/step - loss: 2.1506 - acc: 0.4696 - val_loss: 1.4304 - val_acc: 0.6122\n",
      "Epoch 28/50\n",
      "5000/5000 [==============================] - 726s 145ms/step - loss: 2.1219 - acc: 0.4696 - val_loss: 1.4266 - val_acc: 0.6101\n",
      "Epoch 29/50\n",
      "5000/5000 [==============================] - 719s 144ms/step - loss: 2.0727 - acc: 0.4789 - val_loss: 1.4244 - val_acc: 0.6157\n",
      "Epoch 30/50\n",
      "5000/5000 [==============================] - 723s 145ms/step - loss: 2.0816 - acc: 0.4825 - val_loss: 1.4269 - val_acc: 0.6184\n",
      "Epoch 31/50\n",
      "5000/5000 [==============================] - 731s 146ms/step - loss: 2.0793 - acc: 0.4764 - val_loss: 1.4072 - val_acc: 0.6232\n",
      "Epoch 32/50\n",
      "5000/5000 [==============================] - 725s 145ms/step - loss: 2.0699 - acc: 0.4797 - val_loss: 1.4245 - val_acc: 0.6111\n",
      "Epoch 33/50\n",
      "5000/5000 [==============================] - 727s 145ms/step - loss: 2.0429 - acc: 0.4846 - val_loss: 1.4070 - val_acc: 0.6193\n",
      "Epoch 34/50\n",
      "5000/5000 [==============================] - 727s 145ms/step - loss: 2.0475 - acc: 0.4843 - val_loss: 1.4119 - val_acc: 0.6155\n",
      "Epoch 35/50\n",
      "5000/5000 [==============================] - 727s 145ms/step - loss: 2.0399 - acc: 0.4863 - val_loss: 1.4110 - val_acc: 0.6168\n",
      "Epoch 36/50\n",
      "5000/5000 [==============================] - 718s 144ms/step - loss: 2.0408 - acc: 0.4815 - val_loss: 1.4176 - val_acc: 0.6142\n",
      "Epoch 37/50\n",
      "5000/5000 [==============================] - 725s 145ms/step - loss: 2.0337 - acc: 0.4833 - val_loss: 1.4271 - val_acc: 0.6149\n",
      "Epoch 38/50\n",
      "5000/5000 [==============================] - 723s 145ms/step - loss: 2.0546 - acc: 0.4756 - val_loss: 1.4201 - val_acc: 0.6108\n",
      "\n",
      "Epoch 00038: ReduceLROnPlateau reducing learning rate to 0.0002500000118743628.\n",
      "Epoch 39/50\n",
      "5000/5000 [==============================] - 727s 145ms/step - loss: 1.9896 - acc: 0.4951 - val_loss: 1.3787 - val_acc: 0.6261\n",
      "Epoch 40/50\n",
      "5000/5000 [==============================] - 724s 145ms/step - loss: 1.9761 - acc: 0.4965 - val_loss: 1.3709 - val_acc: 0.6276\n",
      "Epoch 41/50\n",
      "5000/5000 [==============================] - 720s 144ms/step - loss: 1.9811 - acc: 0.4939 - val_loss: 1.3702 - val_acc: 0.6278\n",
      "Epoch 42/50\n",
      "5000/5000 [==============================] - 720s 144ms/step - loss: 1.9621 - acc: 0.4972 - val_loss: 1.3786 - val_acc: 0.6243\n",
      "Epoch 43/50\n",
      "5000/5000 [==============================] - 722s 144ms/step - loss: 1.9529 - acc: 0.5003 - val_loss: 1.3812 - val_acc: 0.6261\n",
      "Epoch 44/50\n",
      "5000/5000 [==============================] - 724s 145ms/step - loss: 1.9480 - acc: 0.5008 - val_loss: 1.3718 - val_acc: 0.6261\n",
      "Epoch 45/50\n",
      "5000/5000 [==============================] - 725s 145ms/step - loss: 1.9617 - acc: 0.4935 - val_loss: 1.3650 - val_acc: 0.6286\n",
      "Epoch 46/50\n",
      "5000/5000 [==============================] - 721s 144ms/step - loss: 1.9341 - acc: 0.5051 - val_loss: 1.3580 - val_acc: 0.6305\n",
      "Epoch 47/50\n",
      "5000/5000 [==============================] - 721s 144ms/step - loss: 1.9653 - acc: 0.4967 - val_loss: 1.3660 - val_acc: 0.6284\n",
      "Epoch 48/50\n",
      "5000/5000 [==============================] - 720s 144ms/step - loss: 1.9312 - acc: 0.5021 - val_loss: 1.3659 - val_acc: 0.6290\n",
      "Epoch 49/50\n",
      "5000/5000 [==============================] - 717s 143ms/step - loss: 1.9309 - acc: 0.5019 - val_loss: 1.3679 - val_acc: 0.6251\n",
      "Epoch 50/50\n",
      "5000/5000 [==============================] - 722s 144ms/step - loss: 1.9366 - acc: 0.4997 - val_loss: 1.3682 - val_acc: 0.6256\n"
     ]
    }
   ],
   "source": [
    "history = model.fit_generator(train_generator,validation_data = valid_generator, \n",
    "                           epochs = epochs, verbose = 1, callbacks = [es, rlrop])"
   ]
  },
  {
   "cell_type": "code",
   "execution_count": 13,
   "metadata": {},
   "outputs": [],
   "source": [
    "model.save_weights(\"EfficientNet2.h5\")"
   ]
  },
  {
   "cell_type": "markdown",
   "metadata": {},
   "source": [
    "## (5) 모델 평가하기"
   ]
  },
  {
   "cell_type": "code",
   "execution_count": 14,
   "metadata": {},
   "outputs": [
    {
     "name": "stderr",
     "output_type": "stream",
     "text": [
      "/home/piai/anaconda3/envs/DH/lib/python3.8/site-packages/tensorflow/python/keras/engine/training.py:1905: UserWarning: `Model.predict_generator` is deprecated and will be removed in a future version. Please use `Model.predict`, which supports generators.\n",
      "  warnings.warn('`Model.predict_generator` is deprecated and '\n"
     ]
    },
    {
     "name": "stdout",
     "output_type": "stream",
     "text": [
      "1250/1250 [==============================] - 89s 68ms/step\n",
      "The accuracy on the testing data : 62.58%\n"
     ]
    }
   ],
   "source": [
    "# Make sure to set shuffle be False.\n",
    "test_generator = DataGenerator(X_test, mode = 'predict', augment = False, shuffle = False)\n",
    "y_pred = model.predict_generator(test_generator,verbose = 1)\n",
    "y_pred = np.argmax(y_pred, axis = 1)\n",
    "\n",
    "print(\"The accuracy on the testing data : {:.2f}%\".format(100 * accuracy_score(y_test, y_pred)))"
   ]
  },
  {
   "cell_type": "markdown",
   "metadata": {},
   "source": [
    "## (6) 모델 사용하기"
   ]
  },
  {
   "cell_type": "code",
   "execution_count": 29,
   "metadata": {},
   "outputs": [
    {
     "name": "stdout",
     "output_type": "stream",
     "text": [
      "   2/1250 [..............................] - ETA: 1:28"
     ]
    },
    {
     "name": "stderr",
     "output_type": "stream",
     "text": [
      "/home/piai/anaconda3/envs/DH/lib/python3.8/site-packages/tensorflow/python/keras/engine/training.py:1905: UserWarning: `Model.predict_generator` is deprecated and will be removed in a future version. Please use `Model.predict`, which supports generators.\n",
      "  warnings.warn('`Model.predict_generator` is deprecated and '\n"
     ]
    },
    {
     "name": "stdout",
     "output_type": "stream",
     "text": [
      "1250/1250 [==============================] - 83s 67ms/step\n",
      "predict label :  [70]\n"
     ]
    },
    {
     "data": {
      "text/plain": [
       "<matplotlib.image.AxesImage at 0x7f78d0d3e790>"
      ]
     },
     "execution_count": 29,
     "metadata": {},
     "output_type": "execute_result"
    },
    {
     "data": {
      "image/png": "[encoded data removed]",
      "text/plain": [
       "<Figure size 432x288 with 1 Axes>"
      ]
     },
     "metadata": {
      "needs_background": "light"
     },
     "output_type": "display_data"
    }
   ],
   "source": [
    "pred_y = model.predict_generator(test_generator,verbose = 1)\n",
    "pred_y = pred_y.argmax()\n",
    "\n",
    "print('predict label : ',y_test[-1])\n",
    "plt.imshow(X_test[-1], cmap='gray')"
   ]
  }
 ],
 "metadata": {
  "kernelspec": {
   "display_name": "DH",
   "language": "python",
   "name": "dh"
  },
  "language_info": {
   "codemirror_mode": {
    "name": "ipython",
    "version": 3
   },
   "file_extension": ".py",
   "mimetype": "text/x-python",
   "name": "python",
   "nbconvert_exporter": "python",
   "pygments_lexer": "ipython3",
   "version": "3.8.8"
  }
 },
 "nbformat": 4,
 "nbformat_minor": 4
}
