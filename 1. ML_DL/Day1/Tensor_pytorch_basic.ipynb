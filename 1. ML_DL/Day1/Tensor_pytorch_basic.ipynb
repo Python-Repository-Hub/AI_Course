{
 "cells": [
  {
   "cell_type": "code",
   "execution_count": 9,
   "id": "biblical-province",
   "metadata": {},
   "outputs": [],
   "source": [
    "import numpy as np\n",
    "from matplotlib import pyplot as plt\n",
    "import seaborn as sns\n",
    "\n",
    "import torch\n",
    "import sklearn"
   ]
  },
  {
   "cell_type": "markdown",
   "id": "french-mainstream",
   "metadata": {},
   "source": [
    "# Tensor"
   ]
  },
  {
   "cell_type": "code",
   "execution_count": 13,
   "id": "systematic-policy",
   "metadata": {},
   "outputs": [
    {
     "data": {
      "text/plain": [
       "tensor([[1., 2.],\n",
       "        [3., 4.]], requires_grad=True)"
      ]
     },
     "execution_count": 13,
     "metadata": {},
     "output_type": "execute_result"
    }
   ],
   "source": [
    "a=torch.tensor([[1, 2], [3, 4]], dtype=torch.float, requires_grad=True)\n",
    "a"
   ]
  },
  {
   "cell_type": "code",
   "execution_count": 14,
   "id": "hidden-farming",
   "metadata": {},
   "outputs": [
    {
     "data": {
      "text/plain": [
       "(tensor([[1., 2.],\n",
       "         [3., 4.]]),\n",
       " tensor([[1., 2.],\n",
       "         [3., 4.]], grad_fn=<CloneBackward>))"
      ]
     },
     "execution_count": 14,
     "metadata": {},
     "output_type": "execute_result"
    }
   ],
   "source": [
    "# detach(), clone() 복사\n",
    "b=a.detach() # grad를 뺌/메모리를 공유(b가 바뀌면 a도 바뀜)\n",
    "c=a.clone() # 요소 값만 복사하여 새로운 tensor 생성\n",
    "b, c"
   ]
  },
  {
   "cell_type": "code",
   "execution_count": 15,
   "id": "enabling-private",
   "metadata": {},
   "outputs": [
    {
     "data": {
      "text/plain": [
       "tensor([[9., 2.],\n",
       "        [3., 4.]], requires_grad=True)"
      ]
     },
     "execution_count": 15,
     "metadata": {},
     "output_type": "execute_result"
    }
   ],
   "source": [
    "# detach()는 메모리를 공유(b가 바뀌면 a도 바뀜)\n",
    "b[0][0]=9\n",
    "a"
   ]
  },
  {
   "cell_type": "code",
   "execution_count": 16,
   "id": "fatty-scale",
   "metadata": {},
   "outputs": [
    {
     "data": {
      "text/plain": [
       "tensor([[1, 2],\n",
       "        [3, 4]], dtype=torch.int32)"
      ]
     },
     "execution_count": 16,
     "metadata": {},
     "output_type": "execute_result"
    }
   ],
   "source": [
    "# to() : GPU로 보낼때 주로 사용\n",
    "d=c.to(dtype=torch.int) # float형을 int형으로\n",
    "d"
   ]
  },
  {
   "cell_type": "markdown",
   "id": "deadly-count",
   "metadata": {},
   "source": [
    "## 참고. tensor error시 check point!"
   ]
  },
  {
   "cell_type": "markdown",
   "id": "technological-closer",
   "metadata": {},
   "source": [
    "# 텐서의 차원"
   ]
  },
  {
   "cell_type": "code",
   "execution_count": 17,
   "id": "velvet-serbia",
   "metadata": {},
   "outputs": [
    {
     "data": {
      "text/plain": [
       "(tensor(2), 0, torch.Size([]))"
      ]
     },
     "execution_count": 17,
     "metadata": {},
     "output_type": "execute_result"
    }
   ],
   "source": [
    "# 0차원 텐서\n",
    "x=torch.tensor(2)\n",
    "x, x.dim(), x.shape"
   ]
  },
  {
   "cell_type": "code",
   "execution_count": 18,
   "id": "broadband-avenue",
   "metadata": {},
   "outputs": [],
   "source": [
    "?torch.rand"
   ]
  },
  {
   "cell_type": "code",
   "execution_count": 19,
   "id": "intended-slovakia",
   "metadata": {},
   "outputs": [
    {
     "data": {
      "text/plain": [
       "(tensor([0.7600, 0.4573]), 1, torch.Size([2]))"
      ]
     },
     "execution_count": 19,
     "metadata": {},
     "output_type": "execute_result"
    }
   ],
   "source": [
    "# 1차원 텐서\n",
    "x=torch.rand(2)\n",
    "x, x.dim(), x.shape"
   ]
  },
  {
   "cell_type": "code",
   "execution_count": 20,
   "id": "chronic-softball",
   "metadata": {},
   "outputs": [
    {
     "data": {
      "text/plain": [
       "(tensor([[0.9055, 0.5700, 0.7948],\n",
       "         [0.2309, 0.9115, 0.4675]]),\n",
       " 2,\n",
       " torch.Size([2, 3]))"
      ]
     },
     "execution_count": 20,
     "metadata": {},
     "output_type": "execute_result"
    }
   ],
   "source": [
    "# 2차원 텐서\n",
    "x=torch.rand(2, 3)\n",
    "x, x.dim(), x.shape"
   ]
  },
  {
   "cell_type": "code",
   "execution_count": 21,
   "id": "comparable-learning",
   "metadata": {},
   "outputs": [
    {
     "data": {
      "text/plain": [
       "(tensor([[[0.8323, 0.0213, 0.0353, 0.3913, 0.7186],\n",
       "          [0.1154, 0.5171, 0.7020, 0.9390, 0.3852]],\n",
       " \n",
       "         [[0.4674, 0.3475, 0.2113, 0.9216, 0.8088],\n",
       "          [0.5617, 0.1809, 0.9862, 0.6633, 0.5439]],\n",
       " \n",
       "         [[0.3146, 0.2527, 0.6791, 0.7068, 0.2697],\n",
       "          [0.8197, 0.0525, 0.6392, 0.4088, 0.7589]]]),\n",
       " 3,\n",
       " torch.Size([3, 2, 5]))"
      ]
     },
     "execution_count": 21,
     "metadata": {},
     "output_type": "execute_result"
    }
   ],
   "source": [
    "# 3차원 텐서\n",
    "x=torch.rand(3, 2, 5)\n",
    "x, x.dim(), x.shape"
   ]
  },
  {
   "cell_type": "code",
   "execution_count": 22,
   "id": "peripheral-relative",
   "metadata": {},
   "outputs": [
    {
     "data": {
      "text/plain": [
       "(tensor([[[[0.5754, 0.8823, 0.9708,  ..., 0.8217, 0.8559, 0.0295],\n",
       "           [0.1967, 0.7708, 0.5741,  ..., 0.9327, 0.4526, 0.7278],\n",
       "           [0.6750, 0.8609, 0.4494,  ..., 0.4391, 0.0227, 0.2900],\n",
       "           ...,\n",
       "           [0.5740, 0.8532, 0.9282,  ..., 0.7420, 0.5758, 0.5240],\n",
       "           [0.1347, 0.6297, 0.4909,  ..., 0.0554, 0.8782, 0.6917],\n",
       "           [0.4426, 0.5370, 0.3334,  ..., 0.2194, 0.4542, 0.3453]],\n",
       " \n",
       "          [[0.7792, 0.9372, 0.4376,  ..., 0.6042, 0.6619, 0.1562],\n",
       "           [0.6393, 0.4099, 0.4062,  ..., 0.3801, 0.6701, 0.2452],\n",
       "           [0.3038, 0.6495, 0.3240,  ..., 0.4722, 0.9791, 0.8015],\n",
       "           ...,\n",
       "           [0.9837, 0.7450, 0.6451,  ..., 0.8604, 0.8030, 0.8168],\n",
       "           [0.6728, 0.7182, 0.0410,  ..., 0.2425, 0.0869, 0.9930],\n",
       "           [0.1101, 0.5891, 0.1416,  ..., 0.8206, 0.4072, 0.4238]],\n",
       " \n",
       "          [[0.6384, 0.8644, 0.5399,  ..., 0.6527, 0.3221, 0.9819],\n",
       "           [0.3523, 0.5654, 0.5365,  ..., 0.3725, 0.0994, 0.0890],\n",
       "           [0.9337, 0.3201, 0.4380,  ..., 0.6410, 0.3001, 0.2122],\n",
       "           ...,\n",
       "           [0.3204, 0.6605, 0.1901,  ..., 0.8016, 0.0583, 0.0281],\n",
       "           [0.5959, 0.3518, 0.5728,  ..., 0.3969, 0.5769, 0.3042],\n",
       "           [0.7545, 0.3008, 0.2216,  ..., 0.0940, 0.6695, 0.4056]]],\n",
       " \n",
       " \n",
       "         [[[0.4758, 0.7870, 0.2835,  ..., 0.5361, 0.4042, 0.3576],\n",
       "           [0.3689, 0.3436, 0.8494,  ..., 0.7378, 0.9204, 0.0235],\n",
       "           [0.4257, 0.7696, 0.8949,  ..., 0.7203, 0.6402, 0.1671],\n",
       "           ...,\n",
       "           [0.1674, 0.3057, 0.8586,  ..., 0.3369, 0.3513, 0.9283],\n",
       "           [0.0468, 0.6204, 0.3240,  ..., 0.9227, 0.2747, 0.5842],\n",
       "           [0.9741, 0.2192, 0.1970,  ..., 0.8816, 0.2914, 0.8564]],\n",
       " \n",
       "          [[0.7866, 0.9493, 0.6866,  ..., 0.7911, 0.6947, 0.4655],\n",
       "           [0.6928, 0.7446, 0.1710,  ..., 0.7096, 0.0611, 0.9211],\n",
       "           [0.2227, 0.8916, 0.9480,  ..., 0.8272, 0.6138, 0.0780],\n",
       "           ...,\n",
       "           [0.6605, 0.4919, 0.3487,  ..., 0.4348, 0.6209, 0.3623],\n",
       "           [0.0075, 0.6231, 0.9626,  ..., 0.5311, 0.7713, 0.1000],\n",
       "           [0.0355, 0.3589, 0.8855,  ..., 0.5131, 0.6368, 0.6813]],\n",
       " \n",
       "          [[0.8772, 0.9289, 0.1185,  ..., 0.3423, 0.3874, 0.5939],\n",
       "           [0.8780, 0.1129, 0.2412,  ..., 0.4419, 0.2180, 0.6061],\n",
       "           [0.5067, 0.4614, 0.4399,  ..., 0.5039, 0.3919, 0.3709],\n",
       "           ...,\n",
       "           [0.2459, 0.5650, 0.6823,  ..., 0.2186, 0.7115, 0.2264],\n",
       "           [0.0491, 0.9707, 0.3205,  ..., 0.4288, 0.2726, 0.9667],\n",
       "           [0.3767, 0.3828, 0.0286,  ..., 0.4862, 0.5344, 0.6335]]],\n",
       " \n",
       " \n",
       "         [[[0.2011, 0.1333, 0.5486,  ..., 0.2856, 0.4596, 0.5204],\n",
       "           [0.9323, 0.4161, 0.6799,  ..., 0.7546, 0.7693, 0.0377],\n",
       "           [0.6867, 0.3970, 0.4342,  ..., 0.2175, 0.3367, 0.5629],\n",
       "           ...,\n",
       "           [0.0756, 0.5632, 0.3966,  ..., 0.9488, 0.8729, 0.8770],\n",
       "           [0.8611, 0.4303, 0.0882,  ..., 0.0981, 0.9319, 0.9924],\n",
       "           [0.1137, 0.6057, 0.8313,  ..., 0.5639, 0.2204, 0.9538]],\n",
       " \n",
       "          [[0.7277, 0.0488, 0.3947,  ..., 0.9355, 0.5356, 0.4946],\n",
       "           [0.5652, 0.6975, 0.0863,  ..., 0.3420, 0.3546, 0.7599],\n",
       "           [0.0402, 0.8228, 0.9072,  ..., 0.2056, 0.7579, 0.9729],\n",
       "           ...,\n",
       "           [0.6996, 0.7239, 0.1238,  ..., 0.8196, 0.9519, 0.4055],\n",
       "           [0.3320, 0.1579, 0.0075,  ..., 0.0507, 0.6196, 0.8178],\n",
       "           [0.3012, 0.4783, 0.0349,  ..., 0.4395, 0.4449, 0.5629]],\n",
       " \n",
       "          [[0.6211, 0.9128, 0.3794,  ..., 0.1756, 0.5944, 0.4136],\n",
       "           [0.7544, 0.8690, 0.2849,  ..., 0.4796, 0.6219, 0.9748],\n",
       "           [0.5681, 0.5854, 0.0401,  ..., 0.7754, 0.4332, 0.5702],\n",
       "           ...,\n",
       "           [0.0281, 0.8908, 0.6021,  ..., 0.7747, 0.9675, 0.1686],\n",
       "           [0.1344, 0.2858, 0.8278,  ..., 0.2757, 0.6400, 0.3295],\n",
       "           [0.1006, 0.0745, 0.8337,  ..., 0.9591, 0.4719, 0.6254]]],\n",
       " \n",
       " \n",
       "         ...,\n",
       " \n",
       " \n",
       "         [[[0.9903, 0.6326, 0.2924,  ..., 0.8205, 0.9008, 0.5806],\n",
       "           [0.2679, 0.3009, 0.3558,  ..., 0.6505, 0.9194, 0.4654],\n",
       "           [0.2300, 0.1656, 0.8156,  ..., 0.0938, 0.7114, 0.7397],\n",
       "           ...,\n",
       "           [0.5631, 0.3057, 0.7099,  ..., 0.3771, 0.1432, 0.0180],\n",
       "           [0.0394, 0.1532, 0.8799,  ..., 0.7604, 0.9765, 0.7019],\n",
       "           [0.6501, 0.7610, 0.6100,  ..., 0.2869, 0.6287, 0.4861]],\n",
       " \n",
       "          [[0.4537, 0.2102, 0.6059,  ..., 0.6572, 0.9007, 0.6188],\n",
       "           [0.8215, 0.2478, 0.9772,  ..., 0.5358, 0.1534, 0.5769],\n",
       "           [0.9983, 0.0595, 0.9251,  ..., 0.1272, 0.5153, 0.9643],\n",
       "           ...,\n",
       "           [0.3896, 0.3728, 0.4541,  ..., 0.9426, 0.1411, 0.3819],\n",
       "           [0.4884, 0.4399, 0.4539,  ..., 0.7552, 0.2427, 0.2983],\n",
       "           [0.1440, 0.0213, 0.4417,  ..., 0.3089, 0.4210, 0.3507]],\n",
       " \n",
       "          [[0.3535, 0.4052, 0.8401,  ..., 0.0418, 0.6736, 0.2160],\n",
       "           [0.8556, 0.2194, 0.2959,  ..., 0.9665, 0.7422, 0.1478],\n",
       "           [0.8698, 0.9753, 0.7714,  ..., 0.8669, 0.5684, 0.7190],\n",
       "           ...,\n",
       "           [0.4060, 0.5288, 0.4890,  ..., 0.3344, 0.5938, 0.8274],\n",
       "           [0.2051, 0.5647, 0.8489,  ..., 0.8867, 0.1107, 0.6490],\n",
       "           [0.6548, 0.7549, 0.1839,  ..., 0.8142, 0.0601, 0.0545]]],\n",
       " \n",
       " \n",
       "         [[[0.6163, 0.3267, 0.9368,  ..., 0.1892, 0.9757, 0.4715],\n",
       "           [0.2506, 0.6471, 0.4529,  ..., 0.0309, 0.6839, 0.0221],\n",
       "           [0.8051, 0.7549, 0.6546,  ..., 0.0651, 0.6542, 0.6532],\n",
       "           ...,\n",
       "           [0.6342, 0.3375, 0.6547,  ..., 0.1046, 0.9243, 0.8200],\n",
       "           [0.8188, 0.3559, 0.0165,  ..., 0.6528, 0.6027, 0.1847],\n",
       "           [0.2772, 0.3983, 0.9441,  ..., 0.5685, 0.8932, 0.3529]],\n",
       " \n",
       "          [[0.2798, 0.0735, 0.7912,  ..., 0.0880, 0.2639, 0.4774],\n",
       "           [0.5608, 0.3400, 0.4493,  ..., 0.5949, 0.7764, 0.2308],\n",
       "           [0.6761, 0.8313, 0.7594,  ..., 0.0688, 0.5339, 0.6196],\n",
       "           ...,\n",
       "           [0.1563, 0.9436, 0.5528,  ..., 0.7207, 0.1310, 0.8107],\n",
       "           [0.3213, 0.0108, 0.0090,  ..., 0.7618, 0.8372, 0.7418],\n",
       "           [0.2836, 0.5760, 0.9138,  ..., 0.3811, 0.2515, 0.4951]],\n",
       " \n",
       "          [[0.9803, 0.4500, 0.3348,  ..., 0.5020, 0.6395, 0.7125],\n",
       "           [0.2251, 0.1611, 0.8761,  ..., 0.8917, 0.3295, 0.8235],\n",
       "           [0.0943, 0.5313, 0.3065,  ..., 0.4775, 0.9614, 0.6238],\n",
       "           ...,\n",
       "           [0.6176, 0.8484, 0.5977,  ..., 0.4016, 0.1946, 0.7027],\n",
       "           [0.6946, 0.0126, 0.0264,  ..., 0.3555, 0.5393, 0.0978],\n",
       "           [0.2715, 0.7232, 0.8078,  ..., 0.3724, 0.8716, 0.0942]]],\n",
       " \n",
       " \n",
       "         [[[0.8876, 0.0746, 0.3348,  ..., 0.0585, 0.9592, 0.4057],\n",
       "           [0.8615, 0.2650, 0.2162,  ..., 0.0196, 0.8247, 0.4208],\n",
       "           [0.2211, 0.1346, 0.8021,  ..., 0.3046, 0.7982, 0.7215],\n",
       "           ...,\n",
       "           [0.0624, 0.1779, 0.8112,  ..., 0.5702, 0.7209, 0.4462],\n",
       "           [0.9115, 0.1262, 0.2000,  ..., 0.3380, 0.6672, 0.8264],\n",
       "           [0.0373, 0.7255, 0.8430,  ..., 0.6877, 0.2361, 0.1266]],\n",
       " \n",
       "          [[0.4001, 0.7333, 0.9723,  ..., 0.1362, 0.5612, 0.6883],\n",
       "           [0.9491, 0.0644, 0.2446,  ..., 0.0276, 0.3811, 0.0345],\n",
       "           [0.0792, 0.1116, 0.7813,  ..., 0.8286, 0.4180, 0.1374],\n",
       "           ...,\n",
       "           [0.9861, 0.1980, 0.6325,  ..., 0.5192, 0.5566, 0.5001],\n",
       "           [0.0746, 0.5801, 0.7539,  ..., 0.6319, 0.6083, 0.6443],\n",
       "           [0.2182, 0.9958, 0.5380,  ..., 0.2969, 0.4953, 0.6739]],\n",
       " \n",
       "          [[0.6001, 0.7060, 0.4011,  ..., 0.1334, 0.3805, 0.7743],\n",
       "           [0.1250, 0.1496, 0.9554,  ..., 0.2008, 0.8006, 0.9438],\n",
       "           [0.3394, 0.2114, 0.2802,  ..., 0.6407, 0.5393, 0.1981],\n",
       "           ...,\n",
       "           [0.3046, 0.0055, 0.6279,  ..., 0.8988, 0.2266, 0.7416],\n",
       "           [0.3154, 0.9659, 0.1772,  ..., 0.3202, 0.6346, 0.5795],\n",
       "           [0.8292, 0.7397, 0.7045,  ..., 0.2988, 0.2004, 0.2854]]]]),\n",
       " 4,\n",
       " torch.Size([128, 3, 32, 32]))"
      ]
     },
     "execution_count": 22,
     "metadata": {},
     "output_type": "execute_result"
    }
   ],
   "source": [
    "# 4차원 텐서\n",
    "x=torch.rand(128, 3, 32, 32) # batch-size, channel, height, width\n",
    "x, x.dim(), x.shape"
   ]
  },
  {
   "cell_type": "markdown",
   "id": "sapphire-tsunami",
   "metadata": {},
   "source": [
    "# 2. 차원과 Shape 바꾸기"
   ]
  },
  {
   "cell_type": "code",
   "execution_count": 36,
   "id": "cardiovascular-turtle",
   "metadata": {},
   "outputs": [],
   "source": [
    "?torch.unsqueeze"
   ]
  },
  {
   "cell_type": "code",
   "execution_count": null,
   "id": "unique-reset",
   "metadata": {},
   "outputs": [],
   "source": [
    "# unsqueeze(input, dim) / dim(int) : the index at which to insert the singleton dim"
   ]
  },
  {
   "cell_type": "code",
   "execution_count": 26,
   "id": "warming-priority",
   "metadata": {},
   "outputs": [
    {
     "data": {
      "text/plain": [
       "tensor([[[1, 1],\n",
       "         [1, 1]]])"
      ]
     },
     "execution_count": 26,
     "metadata": {},
     "output_type": "execute_result"
    }
   ],
   "source": [
    "x=torch.tensor([[1, 1], [1, 1]])\n",
    "x=torch.unsqueeze(x, 0)\n",
    "x"
   ]
  },
  {
   "cell_type": "code",
   "execution_count": 27,
   "id": "possible-kelly",
   "metadata": {},
   "outputs": [
    {
     "data": {
      "text/plain": [
       "(3, torch.Size([1, 2, 2]))"
      ]
     },
     "execution_count": 27,
     "metadata": {},
     "output_type": "execute_result"
    }
   ],
   "source": [
    "x.dim(), x.shape"
   ]
  },
  {
   "cell_type": "code",
   "execution_count": 28,
   "id": "regional-commons",
   "metadata": {},
   "outputs": [
    {
     "data": {
      "text/plain": [
       "(tensor([[[1, 1]],\n",
       " \n",
       "         [[1, 1]]]),\n",
       " 3,\n",
       " torch.Size([2, 1, 2]))"
      ]
     },
     "execution_count": 28,
     "metadata": {},
     "output_type": "execute_result"
    }
   ],
   "source": [
    "x=torch.tensor([[1, 1], [1, 1]])\n",
    "x=x.unsqueeze(1)\n",
    "x, x.dim(), x.shape"
   ]
  },
  {
   "cell_type": "code",
   "execution_count": 29,
   "id": "rural-backup",
   "metadata": {},
   "outputs": [
    {
     "data": {
      "text/plain": [
       "(tensor([[1, 1],\n",
       "         [1, 1]]),\n",
       " 2,\n",
       " torch.Size([2, 2]))"
      ]
     },
     "execution_count": 29,
     "metadata": {},
     "output_type": "execute_result"
    }
   ],
   "source": [
    "# squeeze() : 차원 size가 1인 차원을 모두 제거\n",
    "x=x.squeeze()\n",
    "x, x.ndimension(), x.size()"
   ]
  },
  {
   "cell_type": "code",
   "execution_count": 30,
   "id": "electronic-berkeley",
   "metadata": {},
   "outputs": [
    {
     "data": {
      "text/plain": [
       "(2, torch.Size([2, 2]))"
      ]
     },
     "execution_count": 30,
     "metadata": {},
     "output_type": "execute_result"
    }
   ],
   "source": [
    "x = torch.rand(2, 1, 1, 1, 2)\n",
    "x = x.squeeze()\n",
    "x.dim(), x.shape"
   ]
  },
  {
   "cell_type": "code",
   "execution_count": null,
   "id": "sticky-teacher",
   "metadata": {},
   "outputs": [],
   "source": [
    "?torch.Tensor.view"
   ]
  },
  {
   "cell_type": "code",
   "execution_count": 32,
   "id": "sized-album",
   "metadata": {},
   "outputs": [
    {
     "data": {
      "text/plain": [
       "(tensor([1, 1, 1, 1]), 1, torch.Size([4]))"
      ]
     },
     "execution_count": 32,
     "metadata": {},
     "output_type": "execute_result"
    }
   ],
   "source": [
    "# view(shape)\n",
    "x = torch.tensor([[1, 1], [1, 1]])\n",
    "x=x.view(4)\n",
    "x, x.dim(), x.shape"
   ]
  },
  {
   "cell_type": "code",
   "execution_count": 33,
   "id": "private-detection",
   "metadata": {},
   "outputs": [
    {
     "data": {
      "text/plain": [
       "(tensor([[1, 1, 1, 1]]), 2, torch.Size([1, 4]))"
      ]
     },
     "execution_count": 33,
     "metadata": {},
     "output_type": "execute_result"
    }
   ],
   "source": [
    "x = x.view(1, 4)\n",
    "x, x.dim(), x.shape"
   ]
  },
  {
   "cell_type": "code",
   "execution_count": 34,
   "id": "personal-stereo",
   "metadata": {},
   "outputs": [
    {
     "name": "stdout",
     "output_type": "stream",
     "text": [
      "shape '[3, 1]' is invalid for input of size 4\n"
     ]
    }
   ],
   "source": [
    "# view 사용 시, element 수와 shape을 잘 맞춰줘야한다.\n",
    "try:\n",
    "    x = x.view(3, 1)\n",
    "except Exception as e:\n",
    "    print(e)"
   ]
  },
  {
   "cell_type": "code",
   "execution_count": 35,
   "id": "postal-fleece",
   "metadata": {},
   "outputs": [
    {
     "data": {
      "text/plain": [
       "(tensor([[1],\n",
       "         [1],\n",
       "         [1],\n",
       "         [1]]),\n",
       " 2,\n",
       " torch.Size([4, 1]))"
      ]
     },
     "execution_count": 35,
     "metadata": {},
     "output_type": "execute_result"
    }
   ],
   "source": [
    "# reshape()\n",
    "x = x.reshape(4, 1) # view와 비슷하지만, memory 공유가 보장되지 않는다. contiguous하면 view() 반환 (자세한 내용은 2번째 reference 참고)\n",
    "x, x.dim(), x.shape"
   ]
  },
  {
   "cell_type": "code",
   "execution_count": 37,
   "id": "medical-tower",
   "metadata": {},
   "outputs": [],
   "source": [
    "?torch.transpose"
   ]
  },
  {
   "cell_type": "code",
   "execution_count": 38,
   "id": "tight-engagement",
   "metadata": {},
   "outputs": [
    {
     "data": {
      "text/plain": [
       "torch.Size([16, 3, 32, 32])"
      ]
     },
     "execution_count": 38,
     "metadata": {},
     "output_type": "execute_result"
    }
   ],
   "source": [
    "# transpose(dim0, dim1)\n",
    "\n",
    "x = torch.rand(16, 32, 32, 3) # batch size, height, width, channel\n",
    "x = x.transpose(1, 3)\n",
    "x.shape"
   ]
  },
  {
   "cell_type": "code",
   "execution_count": 39,
   "id": "awful-doctrine",
   "metadata": {},
   "outputs": [
    {
     "data": {
      "text/plain": [
       "tensor([[[ 1,  2,  3,  4],\n",
       "         [ 5,  6,  7,  8],\n",
       "         [ 9, 10, 11, 12]],\n",
       "\n",
       "        [[13, 14, 15, 16],\n",
       "         [17, 18, 19, 20],\n",
       "         [21, 22, 23, 24]]])"
      ]
     },
     "execution_count": 39,
     "metadata": {},
     "output_type": "execute_result"
    }
   ],
   "source": [
    "x = torch.arange(1, 25).view(2, 3, 4)\n",
    "x"
   ]
  },
  {
   "cell_type": "code",
   "execution_count": 40,
   "id": "effective-variance",
   "metadata": {},
   "outputs": [
    {
     "data": {
      "text/plain": [
       "(tensor([[[ 1,  2,  3,  4],\n",
       "          [13, 14, 15, 16]],\n",
       " \n",
       "         [[ 5,  6,  7,  8],\n",
       "          [17, 18, 19, 20]],\n",
       " \n",
       "         [[ 9, 10, 11, 12],\n",
       "          [21, 22, 23, 24]]]),\n",
       " torch.Size([3, 2, 4]))"
      ]
     },
     "execution_count": 40,
     "metadata": {},
     "output_type": "execute_result"
    }
   ],
   "source": [
    "x = x.transpose(0, 1)\n",
    "x, x.shape"
   ]
  },
  {
   "cell_type": "code",
   "execution_count": 41,
   "id": "differential-layer",
   "metadata": {},
   "outputs": [
    {
     "data": {
      "text/plain": [
       "(tensor([[[ 1,  2,  3,  4],\n",
       "          [ 5,  6,  7,  8],\n",
       "          [ 9, 10, 11, 12]],\n",
       " \n",
       "         [[13, 14, 15, 16],\n",
       "          [17, 18, 19, 20],\n",
       "          [21, 22, 23, 24]]]),\n",
       " torch.Size([2, 3, 4]))"
      ]
     },
     "execution_count": 41,
     "metadata": {},
     "output_type": "execute_result"
    }
   ],
   "source": [
    "# permute()\n",
    "\n",
    "x = x.permute(1, 0, 2) # 0 -> 1, 1 -> 0, 2 -> 2 으로 차원 변경\n",
    "x, x.shape"
   ]
  },
  {
   "cell_type": "code",
   "execution_count": null,
   "id": "comic-petersburg",
   "metadata": {},
   "outputs": [],
   "source": []
  }
 ],
 "metadata": {
  "kernelspec": {
   "display_name": "AIBD",
   "language": "python",
   "name": "aibd"
  },
  "language_info": {
   "codemirror_mode": {
    "name": "ipython",
    "version": 3
   },
   "file_extension": ".py",
   "mimetype": "text/x-python",
   "name": "python",
   "nbconvert_exporter": "python",
   "pygments_lexer": "ipython3",
   "version": "3.8.8"
  }
 },
 "nbformat": 4,
 "nbformat_minor": 5
}
