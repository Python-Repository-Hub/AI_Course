{
 "cells": [
  {
   "cell_type": "code",
   "execution_count": 8,
   "metadata": {},
   "outputs": [],
   "source": [
    "import torch.nn as nn\n",
    "import torch\n",
    "import torch.nn.utils.rnn as rnn\n",
    "import statistics\n",
    "import nltk # 없으시면 설치하세요: pip install nltk\n",
    "import random\n",
    "import collections\n",
    "import time"
   ]
  },
  {
   "cell_type": "code",
   "execution_count": 9,
   "metadata": {},
   "outputs": [],
   "source": [
    "device = torch.device('cuda' if torch.cuda.is_available() else 'cpu')"
   ]
  },
  {
   "cell_type": "code",
   "execution_count": 10,
   "metadata": {},
   "outputs": [],
   "source": [
    "## Dictionary class 선언\n",
    "class Dictionary(object):\n",
    "    def __init__(self, dataset, size):\n",
    "        ## init vocab ##\n",
    "        self.word2idx = {'<pad>':0, '<sos>': 1, '<eos>': 2, '<unk>': 3} # 사전 \n",
    "        self.idx2word = ['<pad>', '<sos>', '<eos>', '<unk>'] # inverted dictionary\n",
    "\n",
    "        self.build_dict(dataset, size) # 사전을 직접적으로 만드는 부분\n",
    "\n",
    "    def __call__(self, word):\n",
    "        return self.word2idx.get(word, self.word2idx['<unk>']) # if word does not exist in vocab then return unk idx\n",
    "\n",
    "    def add_word(self, word):\n",
    "        if word not in self.word2idx:\n",
    "            self.idx2word.append(word)\n",
    "            self.word2idx[word] = len(self.idx2word) - 1\n",
    "        return self.word2idx[word]\n",
    "\n",
    "    def build_dict(self, dataset, dict_size):\n",
    "        ## Practice ##\n",
    "        \"\"\"Tokenize a text file.\"\"\"\n",
    "        total_words = (word for sent in dataset for word in sent) # store all words into tuple\n",
    "        word_freq = collections.Counter(total_words) # count the number of each word: ex) ('The': 10000, 'a': 5555, ...)\n",
    "        vocab = sorted(word_freq.keys(), key = lambda word: (-word_freq[word], word))# sort by frequency\n",
    "        vocab = vocab[:dict_size] # truncate\n",
    "        for word in vocab:\n",
    "            self.add_word(word)\n",
    "\n",
    "    def __len__(self):\n",
    "        return len(self.idx2word)\n"
   ]
  },
  {
   "cell_type": "code",
   "execution_count": 11,
   "metadata": {},
   "outputs": [],
   "source": [
    "## Brown dataset Preprocessing (NLTK)\n",
    "def brown_dataset(min=5, max=30):\n",
    "    nltk.download('brown')\n",
    "\n",
    "    # get sentences with the length between min and max\n",
    "    # convert all words into lower-case\n",
    "    all_seq = [[token.lower() for token in seq] for seq in nltk.corpus.brown.sents() \n",
    "               if min <= len(seq) <= max]\n",
    "\n",
    "    random.shuffle(all_seq) # shuffle\n",
    "    return all_seq"
   ]
  },
  {
   "cell_type": "code",
   "execution_count": 12,
   "metadata": {},
   "outputs": [
    {
     "name": "stderr",
     "output_type": "stream",
     "text": [
      "[nltk_data] Downloading package brown to /home1/wklee/nltk_data...\n",
      "[nltk_data]   Package brown is already up-to-date!\n"
     ]
    },
    {
     "name": "stdout",
     "output_type": "stream",
     "text": [
      "43450\n",
      "['he', 'had', 'no', 'idea', 'how', 'much', 'time', 'budd', 'would', 'give', 'him', '.']\n",
      "['winking', 'at', \"joel's\", 'look', 'of', 'shock', '.']\n",
      "['stanbury', ',', 'brownell', ',', 'riggs', ',', 'perinetti', ',', 'itoiz', ',', 'and', 'del', 'castillo', ',', '1954', ')', '.']\n"
     ]
    }
   ],
   "source": [
    "## Download Brown dataset\n",
    "dataset = brown_dataset()\n",
    "print(len(dataset))\n",
    "## print some part\n",
    "print(dataset[0])\n",
    "print(dataset[1])\n",
    "print(dataset[2])"
   ]
  },
  {
   "cell_type": "code",
   "execution_count": 13,
   "metadata": {},
   "outputs": [],
   "source": [
    "## Data handler class 선언\n",
    "class Corpus(object):\n",
    "    def __init__(self, dataset, device, dict_size=20000, train_ratio=0.97):\n",
    "        train_size = int(len(dataset) * train_ratio)\n",
    "        self.device = device\n",
    "        self.dictionary = Dictionary(dataset, dict_size)\n",
    "        self.train = dataset[:train_size] # [0 ~ train_size]\n",
    "        self.valid = dataset[train_size:] # [train_size: len(dataset)]\n",
    "\n",
    "    def indexing(self, dat):\n",
    "        # dat = list(list)\n",
    "        src_idxes = [] # 모델 입력\n",
    "        tgt_idxes = [] # 모델 정답\n",
    "        for sent in dat:\n",
    "            src_idx = [self.dictionary('<sos>')] + [self.dictionary(word) for word in sent]\n",
    "            tgt_idx = [self.dictionary(word) for word in sent] + [self.dictionary('<eos>')]\n",
    "            src_idxes.append(torch.tensor(src_idx).type(torch.int64))\n",
    "            tgt_idxes.append(torch.tensor(tgt_idx).type(torch.int64))\n",
    "\n",
    "        src_idxes = rnn.pad_sequence(src_idxes, batch_first=True).to(self.device) # shape = [B, L]\n",
    "        tgt_idxes = rnn.pad_sequence(tgt_idxes, batch_first=True).to(self.device).view(-1) # flatten shape = [B * L]\n",
    "\n",
    "        return src_idxes, tgt_idxes\n",
    "\n",
    "    def batch_iter(self, batch_size, isTrain=True):\n",
    "        dat = self.train if isTrain else self.valid\n",
    "        if isTrain:\n",
    "            random.shuffle(dat)\n",
    "\n",
    "        for i in range(len(dat) // batch_size):\n",
    "            batch = dat[i * batch_size: (i+1) * batch_size]\n",
    "            src, tgt = self.indexing(batch)\n",
    "            yield {'src': src, 'tgt': tgt}"
   ]
  },
  {
   "cell_type": "code",
   "execution_count": 14,
   "metadata": {},
   "outputs": [],
   "source": [
    "corpus = Corpus(dataset, device)"
   ]
  },
  {
   "cell_type": "code",
   "execution_count": 15,
   "metadata": {},
   "outputs": [
    {
     "name": "stdout",
     "output_type": "stream",
     "text": [
      "word:  <pad>      | index:     0 \n",
      "word:  <sos>      | index:     1 \n",
      "word:  <eos>      | index:     2 \n",
      "word:  <unk>      | index:     3 \n",
      "word:  the        | index:     4 \n",
      "word:  .          | index:     5 \n",
      "word:  ,          | index:     6 \n",
      "word:  of         | index:     7 \n",
      "word:  and        | index:     8 \n",
      "word:  to         | index:     9 \n",
      "word:  a          | index:    10 \n",
      "word:  in         | index:    11 \n",
      "word:  was        | index:    12 \n",
      "word:  he         | index:    13 \n",
      "word:  is         | index:    14 \n",
      "word:  ''         | index:    15 \n",
      "word:  ``         | index:    16 \n",
      "word:  it         | index:    17 \n",
      "word:  that       | index:    18 \n",
      "word:  for        | index:    19 \n",
      "word:  ;          | index:    20 \n"
     ]
    }
   ],
   "source": [
    "# Dictionary 확인\n",
    "for i, (key, val) in enumerate(corpus.dictionary.word2idx.items()):\n",
    "    print('word:  {:10s} | index: {:5d} '.format(key, val))\n",
    "    if i == 20:\n",
    "        break"
   ]
  },
  {
   "cell_type": "code",
   "execution_count": 16,
   "metadata": {},
   "outputs": [
    {
     "name": "stdout",
     "output_type": "stream",
     "text": [
      "[['winking', 'at', \"joel's\", 'look', 'of', 'shock', '.']]\n",
      "tensor([[    1, 10277,    30, 18218,   216,     7,  3189,     5]],\n",
      "       device='cuda:1')\n",
      "tensor([10277,    30, 18218,   216,     7,  3189,     5,     2],\n",
      "       device='cuda:1')\n",
      "------------------------------------------------------------------------------------------\n",
      "[['he', 'had', 'no', 'idea', 'how', 'much', 'time', 'budd', 'would', 'give', 'him', '.'], ['winking', 'at', \"joel's\", 'look', 'of', 'shock', '.']]\n",
      "tensor([[    1,    13,    29,    56,   458,   120,   109,    78,  9149,    49,\n",
      "           239,    47,     5],\n",
      "        [    1, 10277,    30, 18218,   216,     7,  3189,     5,     0,     0,\n",
      "             0,     0,     0]], device='cuda:1')\n",
      "tensor([   13,    29,    56,   458,   120,   109,    78,  9149,    49,   239,\n",
      "           47,     5,     2, 10277,    30, 18218,   216,     7,  3189,     5,\n",
      "            2,     0,     0,     0,     0,     0], device='cuda:1')\n"
     ]
    }
   ],
   "source": [
    "## indexing 함수 결과 확인\n",
    "\n",
    "# case : 단일 문장 입력 시. \n",
    "sent = [dataset[1]]\n",
    "idx_src, idx_tgt = corpus.indexing(sent)\n",
    "\n",
    "print(sent)\n",
    "print(idx_src) # <SOS> index로 시작\n",
    "print(idx_tgt) # <EOS> index로 종료\n",
    "\n",
    "print('-' * 90)\n",
    "## case : 복수 문장 입력 시 (batching)\n",
    "batch = [dataset[0], dataset[1]]\n",
    "idx_src, idx_tgt = corpus.indexing(batch)\n",
    "\n",
    "print(batch)\n",
    "print(idx_src) # 가장 길이가 긴 문장 (dataset[0]) 보다 짧은 문장 (dataset[1]) 의 경우 남는 길이만큼 padding=0 삽입 확인.\n",
    "print(idx_tgt)"
   ]
  },
  {
   "cell_type": "code",
   "execution_count": 17,
   "metadata": {},
   "outputs": [],
   "source": [
    "## RNN Language model 선언\n",
    "\n",
    "# Define network\n",
    "class RNNModel(nn.Module):\n",
    "    def __init__(self, ntoken, hidden_size, nlayers, dropout=0.1):\n",
    "        # ntoken : 사진의 크기\n",
    "        # hidden_size : hidden vector 의 크기\n",
    "        super(RNNModel, self).__init__()\n",
    "        self.drop = nn.Dropout(dropout)\n",
    "        self.embeddings = nn.Embedding(ntoken, hidden_size, padding_idx=0) # Practice \n",
    "        self.rnn = nn.LSTM(hidden_size, hidden_size, nlayers, dropout=dropout, batch_first=True) # Practice \n",
    "        \n",
    "        self.output_layer = nn.Linear(hidden_size, ntoken) # Practice\n",
    "        self.sm = nn.LogSoftmax(dim=-1) # log확률값\n",
    "\n",
    "        self.ntoken = ntoken\n",
    "        self.hidden_size = hidden_size\n",
    "        self.nlayers = nlayers\n",
    "\n",
    "        self.init_weights()\n",
    "\n",
    "    def init_weights(self):\n",
    "        initrange = 0.1\n",
    "        self.embeddings.weight.data.uniform_(-initrange, initrange)\n",
    "        self.output_layer.weight.data.uniform_(-initrange, initrange)\n",
    "        self.output_layer.bias.data.zero_()\n",
    "\n",
    "    def forward(self, input, hidden):\n",
    "        # shape(input) = [Batch, length]\n",
    "        emb = self.embeddings(input) # emb = (batch, length, dim)\n",
    "        output, hidden = self.rnn(emb, hidden) # output = (batch. length. dim)\n",
    "        output = self.drop(output)\n",
    "        output = self.output_layer(output) # output = (batch, length, vocab_size)\n",
    "        output = output.view(-1, self.ntoken) # output = (batch * length, vocab_size)\n",
    "\n",
    "        return self.sm(output), hidden\n",
    "\n",
    "    def init_hidden(self, bsz):\n",
    "        weight = next(self.parameters()) # to set init tensor with the same torch.dtype and torch.device\n",
    "        return (weight.new_zeros(self.nlayers, bsz, self.hidden_size),\n",
    "                weight.new_zeros(self.nlayers, bsz, self.hidden_size))\n"
   ]
  },
  {
   "cell_type": "code",
   "execution_count": 18,
   "metadata": {},
   "outputs": [
    {
     "name": "stderr",
     "output_type": "stream",
     "text": [
      "/home1/wklee/.pyenv/versions/torch17/lib/python3.7/site-packages/torch/nn/modules/rnn.py:61: UserWarning: dropout option adds dropout after all but last recurrent layer, so non-zero dropout expects num_layers greater than 1, but got dropout=0.2 and num_layers=1\n",
      "  \"num_layers={}\".format(dropout, num_layers))\n"
     ]
    }
   ],
   "source": [
    "# Hyperparameters\n",
    "batch_size = 60\n",
    "hidden_size = 256\n",
    "dropout = 0.2\n",
    "max_epoch = 30\n",
    "\n",
    "# build model\n",
    "ntokens = len(corpus.dictionary)\n",
    "model = RNNModel(ntokens, hidden_size, 1, dropout).to(device)\n",
    "isTrain=True # Flag variable\n",
    "\n",
    "# set loss func and optimizer\n",
    "optimizer = torch.optim.Adam(model.parameters(), lr=0.005)\n",
    "criterion = nn.NLLLoss(ignore_index=0, reduction='mean')"
   ]
  },
  {
   "cell_type": "code",
   "execution_count": 19,
   "metadata": {},
   "outputs": [],
   "source": [
    "##### Training / Evaluation Parts #######"
   ]
  },
  {
   "cell_type": "code",
   "execution_count": 20,
   "metadata": {},
   "outputs": [],
   "source": [
    "# accuracy\n",
    "def cal_acc(scores, target):\n",
    "    pred = scores.max(-1)[1]\n",
    "    non_pad = target.ne(0)\n",
    "    num_correct = pred.eq(target).masked_select(non_pad).sum().item() \n",
    "    num_non_pad = non_pad.sum().item()\n",
    "    return 100 * (num_correct / num_non_pad)"
   ]
  },
  {
   "cell_type": "code",
   "execution_count": 21,
   "metadata": {},
   "outputs": [],
   "source": [
    "# train func.\n",
    "def train():\n",
    "    model.train() # Turn on training mode which enables dropout.\n",
    "    mean_loss = []\n",
    "    mean_acc = []\n",
    "    start_time = time.time()\n",
    "\n",
    "    for batch in corpus.batch_iter(batch_size):\n",
    "        hidden = model.init_hidden(batch_size) # zero vectors for init hidden\n",
    "        target = batch['tgt'] # flattened target \n",
    "        optimizer.zero_grad()\n",
    "        output, hidden = model(batch['src'], hidden) # output = flatten output = [Batch_size * Length, vocab_size]\n",
    "\n",
    "        # output shape = (batch * length, vocab_size)\n",
    "        # target shape = (batch * length)   --> (batch * length, vocab_size) 로 one-hot distribtuion으로 내부적으로 변환되어 비교 수행\n",
    "        loss = criterion(output, target) # compare between vocab_prob and answer_prob(one-hot converted)\n",
    "        loss.backward()\n",
    "        optimizer.step()\n",
    "\n",
    "        mean_loss.append(loss.item())\n",
    "        mean_acc.append(cal_acc(output, target))\n",
    "\n",
    "    total_time = time.time() - start_time\n",
    "    mean_acc = statistics.mean(mean_acc)\n",
    "    mean_loss = statistics.mean(mean_loss)\n",
    "\n",
    "    return mean_loss, total_time, mean_acc"
   ]
  },
  {
   "cell_type": "code",
   "execution_count": 22,
   "metadata": {},
   "outputs": [],
   "source": [
    "# evaluation func.\n",
    "def evaluate():\n",
    "    model.eval() # Turn off dropout\n",
    "    mean_loss = []\n",
    "    mean_acc = []\n",
    "\n",
    "    for batch in corpus.batch_iter(batch_size, isTrain=False):\n",
    "        with torch.no_grad():\n",
    "            hidden = model.init_hidden(batch_size)\n",
    "            target = batch['tgt']\n",
    "            output, hidden = model(batch['src'], hidden)\n",
    "            loss = criterion(output, target)\n",
    "            mean_loss.append(loss.item())\n",
    "            mean_acc.append(cal_acc(output, target))\n",
    "\n",
    "    mean_acc = statistics.mean(mean_acc)\n",
    "    mean_loss = statistics.mean(mean_loss)\n",
    "\n",
    "    return mean_loss, mean_acc"
   ]
  },
  {
   "cell_type": "code",
   "execution_count": 23,
   "metadata": {},
   "outputs": [
    {
     "name": "stdout",
     "output_type": "stream",
     "text": [
      "epoch    2 | times 13.563 |  loss: 5.696 | accuracy: 20.41\n",
      "epoch    3 | times 12.662 |  loss: 5.072 | accuracy: 23.91\n",
      "epoch    4 | times 12.703 |  loss: 4.717 | accuracy: 25.59\n",
      "epoch    5 | times 12.650 |  loss: 4.401 | accuracy: 27.06\n",
      "epoch    6 | times 12.640 |  loss: 4.117 | accuracy: 28.79\n",
      "epoch    7 | times 12.630 |  loss: 3.871 | accuracy: 30.67\n",
      "epoch    8 | times 12.649 |  loss: 3.666 | accuracy: 32.59\n",
      "epoch    9 | times 12.797 |  loss: 3.495 | accuracy: 34.36\n",
      "epoch   10 | times 12.700 |  loss: 3.356 | accuracy: 35.81\n",
      "epoch   11 | times 12.729 |  loss: 3.241 | accuracy: 37.23\n",
      "============================================================\n",
      "Evaluation | loss: 5.909 | accuracy: 23.42\n",
      "============================================================\n",
      "epoch   12 | times 12.722 |  loss: 3.148 | accuracy: 38.32\n",
      "epoch   13 | times 12.839 |  loss: 3.070 | accuracy: 39.38\n",
      "epoch   14 | times 12.594 |  loss: 3.007 | accuracy: 40.14\n",
      "epoch   15 | times 12.580 |  loss: 2.951 | accuracy: 40.89\n",
      "epoch   16 | times 12.593 |  loss: 2.904 | accuracy: 41.46\n",
      "epoch   17 | times 12.679 |  loss: 2.867 | accuracy: 41.96\n",
      "epoch   18 | times 12.697 |  loss: 2.839 | accuracy: 42.28\n",
      "epoch   19 | times 12.603 |  loss: 2.807 | accuracy: 42.70\n",
      "epoch   20 | times 12.490 |  loss: 2.785 | accuracy: 43.01\n",
      "epoch   21 | times 12.613 |  loss: 2.767 | accuracy: 43.15\n",
      "============================================================\n",
      "Evaluation | loss: 6.711 | accuracy: 22.85\n",
      "============================================================\n",
      "epoch   22 | times 12.656 |  loss: 2.748 | accuracy: 43.40\n",
      "epoch   23 | times 12.707 |  loss: 2.736 | accuracy: 43.49\n",
      "epoch   24 | times 12.689 |  loss: 2.725 | accuracy: 43.58\n",
      "epoch   25 | times 12.639 |  loss: 2.719 | accuracy: 43.67\n",
      "epoch   26 | times 12.762 |  loss: 2.710 | accuracy: 43.75\n",
      "epoch   27 | times 12.541 |  loss: 2.701 | accuracy: 43.81\n",
      "epoch   28 | times 12.705 |  loss: 2.695 | accuracy: 43.96\n",
      "epoch   29 | times 12.712 |  loss: 2.690 | accuracy: 43.94\n",
      "epoch   30 | times 12.750 |  loss: 2.683 | accuracy: 44.16\n",
      "epoch   31 | times 12.792 |  loss: 2.682 | accuracy: 44.06\n",
      "============================================================\n",
      "Evaluation | loss: 7.141 | accuracy: 22.46\n",
      "============================================================\n",
      "save model at: ./model.pt\n"
     ]
    }
   ],
   "source": [
    "if isTrain: # set False if you don't need to train model\n",
    "    start_time = time.time()\n",
    "\n",
    "    for epoch in range(1, max_epoch+1):\n",
    "        loss, epoch_time, accuracy = train()\n",
    "        print('epoch {:4d} | times {:3.3f} |  loss: {:3.3f} | accuracy: {:3.2f}'.format(epoch+1, epoch_time, loss, accuracy))\n",
    "\n",
    "        if epoch % 10 == 0:\n",
    "            loss, accuracy = evaluate()\n",
    "            print('=' * 60)\n",
    "            print('Evaluation | loss: {:3.3f} | accuracy: {:3.2f}'.format(loss, accuracy))\n",
    "            print('=' * 60)\n",
    "\n",
    "    with open('model.pt', 'wb') as f:\n",
    "        print('save model at: ./model.pt')\n",
    "        torch.save(model, f)"
   ]
  },
  {
   "cell_type": "code",
   "execution_count": 76,
   "metadata": {},
   "outputs": [],
   "source": [
    "def pred_sent_prob(sent):\n",
    "    import numpy as np # optinal\n",
    "    model.eval()\n",
    "    with torch.no_grad():\n",
    "        # 1. 모델 입력 및 정답 문장에 대한 단어 indexing\n",
    "        idx_src, idx_tgt = corpus.indexing(sent)\n",
    "\n",
    "        # 2. initial hidden 생성\n",
    "        hidden = model.init_hidden(len(sent))\n",
    "        \n",
    "        # 3. LM의 결과(확률분포) 생성\n",
    "        # 4. 모델 확률분포로부터 정답 단어의 각 index에 대한 Log 확률 값 추출.\n",
    "        # 5. log 확률의 합.\n",
    "        output, hidden = model(idx_src, hidden)\n",
    "        sent_prob = 0\n",
    "        tgt_list = idx_tgt.tolist()\n",
    "        for i in range(len(tgt_list)):\n",
    "            sent_prob += output[i][tgt_list[i]]\n",
    "            \n",
    "        # 6. 결과 return (return type: float)\n",
    "        return float(sent_prob)"
   ]
  },
  {
   "cell_type": "code",
   "execution_count": null,
   "metadata": {},
   "outputs": [],
   "source": [
    "# load saved model\n",
    "with open('./model.pt', 'rb') as f:\n",
    "    print('load model from: ./model.pt')\n",
    "    model = torch.load(f).to(device)\n",
    "\n",
    "    print('log prob of [the dog bark .]: {:3.3f}'.format(pred_sent_prob([['the', 'dog', 'bark', '.']])))\n",
    "    print('log prob of [the cat bark .]: {:3.3f}'.format(pred_sent_prob([['the', 'cat', 'bark', '.']])))\n",
    "\n",
    "    print('log prob of [boy am a i .]: {:3.3f}'.format(pred_sent_prob([['boy', 'am', 'a', 'i', '.']])))\n",
    "    print('log prob of [i am a boy .]: {:3.3f}'.format(pred_sent_prob([['i', 'am', 'a', 'boy', '.']])))\n"
   ]
  },
  {
   "cell_type": "code",
   "execution_count": null,
   "metadata": {},
   "outputs": [],
   "source": [
    "def pred_next_word(partial_sent, topN = 3):\n",
    "    model.eval()\n",
    "    top_list = []\n",
    "    \n",
    "    with torch.no_grad():\n",
    "        # 1. 모델 입력 및 정답 문장에 대한 단어 indexing\n",
    "        idx_src, idx_tgt = corpus.indexing(partial_sent)\n",
    "        \n",
    "        # 2. initial hidden 생성\n",
    "        hidden = model.init_hidden(len(partial_sent))\n",
    "        \n",
    "        # 3. LM의 결과(확률분포) 생성\n",
    "        output, hidden = model(idx_src, hidden)\n",
    "        \n",
    "        # 4. topN에 해당하는 다음단어의 word index 추출 (Hint: torch.topk() 활용)\n",
    "        # Returns the k largest elements of the given input tensor along a given dimension.\n",
    "        values, indexs = torch.topk(output[3], k = topN, dim = -1)\n",
    "        \n",
    "        # 5. word index --> word 로 변환\n",
    "        # 6. topN word list 반환 (return type: list)\n",
    "        for i in indexs.tolist():\n",
    "            top_list.append(corpus.dictionary.idx2word[i])\n",
    "            \n",
    "        return top_list"
   ]
  },
  {
   "cell_type": "code",
   "execution_count": null,
   "metadata": {},
   "outputs": [],
   "source": [
    "partial_sent = [['the', 'next', 'word']]\n",
    "N=3\n",
    "candidates = pred_next_word(partial_sent, topN=N)\n",
    "\n",
    "# print \n",
    "partial_sent = ' '.join(partial_sent[0])\n",
    "print('Top {0} next words for a partial sentence [{1}] is: '.format(N, partial_sent))\n",
    "print('===>', candidates)"
   ]
  }
 ],
 "metadata": {
  "kernelspec": {
   "display_name": "DH",
   "language": "python",
   "name": "dh"
  },
  "language_info": {
   "codemirror_mode": {
    "name": "ipython",
    "version": 3
   },
   "file_extension": ".py",
   "mimetype": "text/x-python",
   "name": "python",
   "nbconvert_exporter": "python",
   "pygments_lexer": "ipython3",
   "version": "3.8.10"
  },
  "pycharm": {
   "stem_cell": {
    "cell_type": "raw",
    "metadata": {
     "collapsed": false
    },
    "source": []
   }
  }
 },
 "nbformat": 4,
 "nbformat_minor": 2
}
