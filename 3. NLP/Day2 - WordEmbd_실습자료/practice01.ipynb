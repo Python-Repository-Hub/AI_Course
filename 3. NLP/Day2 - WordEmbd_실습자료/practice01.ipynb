{
 "cells": [
  {
   "cell_type": "code",
   "execution_count": 1,
   "metadata": {},
   "outputs": [],
   "source": [
    "import torch\n",
    "import torch.nn"
   ]
  },
  {
   "cell_type": "code",
   "execution_count": 2,
   "metadata": {},
   "outputs": [],
   "source": [
    "vocab = {\n",
    "    '청년': 0,\n",
    "    'AI': 1,\n",
    "    'BIGDATA': 2,\n",
    "    'NLP': 3,\n",
    "    '인공지능': 4,\n",
    "    'embedding': 5,\n",
    "    '실습': 6\n",
    "}"
   ]
  },
  {
   "cell_type": "code",
   "execution_count": 5,
   "metadata": {},
   "outputs": [
    {
     "name": "stdout",
     "output_type": "stream",
     "text": [
      "Embedding(7, 10)\n",
      "Parameter containing:\n",
      "tensor([[-7.9789e-01, -8.9500e-01,  1.1466e+00,  3.5470e-01,  7.8239e-01,\n",
      "         -2.8967e-01, -1.2091e+00, -4.7296e-01, -9.6393e-01, -1.2348e+00],\n",
      "        [ 4.2061e-01,  2.5723e-01,  8.0762e-01,  6.8009e-01, -1.1639e+00,\n",
      "          1.3652e+00,  1.5580e+00,  7.0019e-01,  1.4920e-01, -3.0491e+00],\n",
      "        [-3.8754e-01, -6.4829e-01, -6.2898e-01, -2.0951e+00,  6.1029e-01,\n",
      "          4.9715e-01, -1.3171e+00, -9.5460e-01, -1.4703e-01, -8.1013e-01],\n",
      "        [-4.2023e-01,  7.6849e-01, -2.5679e-01, -2.3972e+00,  2.9309e-01,\n",
      "          1.1330e+00, -1.0201e+00,  1.8088e+00,  9.3282e-01, -2.1259e+00],\n",
      "        [ 1.0422e+00,  3.7209e-01, -1.1022e+00, -9.0792e-01,  5.4663e-02,\n",
      "          5.8953e-02,  1.4389e+00, -2.8572e-01, -1.6348e-01,  2.3625e-01],\n",
      "        [ 4.8876e-01, -1.8269e+00, -2.2030e-01, -1.2067e-01, -1.4604e+00,\n",
      "         -2.8896e-01,  4.8998e-01,  7.6315e-01,  2.4287e-01,  1.8642e+00],\n",
      "        [-3.3554e-01, -1.7903e+00,  1.0238e+00,  1.9672e-01, -1.1829e+00,\n",
      "          8.8802e-01,  2.5392e-03,  8.4005e-01,  1.5658e+00,  1.0889e+00]],\n",
      "       requires_grad=True)\n"
     ]
    }
   ],
   "source": [
    "dim=10\n",
    "emb_mtx = torch.nn.Embedding(len(vocab), dim)\n",
    "\n",
    "print(emb_mtx)\n",
    "print(emb_mtx.weight)"
   ]
  },
  {
   "cell_type": "code",
   "execution_count": 10,
   "metadata": {},
   "outputs": [
    {
     "name": "stdout",
     "output_type": "stream",
     "text": [
      "tensor([0])\n"
     ]
    },
    {
     "data": {
      "text/plain": [
       "tensor([[-0.7979, -0.8950,  1.1466,  0.3547,  0.7824, -0.2897, -1.2091, -0.4730,\n",
       "         -0.9639, -1.2348]], grad_fn=<EmbeddingBackward>)"
      ]
     },
     "execution_count": 10,
     "metadata": {},
     "output_type": "execute_result"
    }
   ],
   "source": [
    "## Practice 1 ##\n",
    "\n",
    "# print word embedding of '청년'\n",
    "idx = # make index tensor for '청년'\n",
    "print(idx)\n",
    "emb_mtx(idx) # feed index tensor to emb_mtx"
   ]
  },
  {
   "cell_type": "code",
   "execution_count": 33,
   "metadata": {},
   "outputs": [
    {
     "name": "stdout",
     "output_type": "stream",
     "text": [
      "tensor([0, 1, 2]) torch.Size([3])\n",
      "tensor([[-0.7979, -0.8950,  1.1466,  0.3547,  0.7824, -0.2897, -1.2091, -0.4730,\n",
      "         -0.9639, -1.2348],\n",
      "        [ 0.4206,  0.2572,  0.8076,  0.6801, -1.1639,  1.3652,  1.5580,  0.7002,\n",
      "          0.1492, -3.0491],\n",
      "        [-0.3875, -0.6483, -0.6290, -2.0951,  0.6103,  0.4972, -1.3171, -0.9546,\n",
      "         -0.1470, -0.8101]], grad_fn=<EmbeddingBackward>) torch.Size([3, 10])\n"
     ]
    }
   ],
   "source": [
    "## Practice 2 ##\n",
    "\n",
    "# print word embeddings for a given sentence: \"청년 AI BIGDATA\"\n",
    "sent = ['청년', 'AI', 'BIGDATA']\n",
    "idxs = []\n",
    "for word in sent:\n",
    "    idx = # convert word into index\n",
    "    idxs.append(idx) # append idx to idxs\n",
    "\n",
    "idxs = # convert index list to tensor\n",
    "print(idxs, idxs.size())\n",
    "print('')\n",
    "\n",
    "emb = # convert idxs into word embedding\n",
    "print(emb, emb.size())"
   ]
  },
  {
   "cell_type": "code",
   "execution_count": 34,
   "metadata": {},
   "outputs": [
    {
     "name": "stdout",
     "output_type": "stream",
     "text": [
      "tensor([[0, 1, 2],\n",
      "        [3, 5, 6]]) torch.Size([2, 3])\n",
      "\n",
      "tensor([[[-7.9789e-01, -8.9500e-01,  1.1466e+00,  3.5470e-01,  7.8239e-01,\n",
      "          -2.8967e-01, -1.2091e+00, -4.7296e-01, -9.6393e-01, -1.2348e+00],\n",
      "         [ 4.2061e-01,  2.5723e-01,  8.0762e-01,  6.8009e-01, -1.1639e+00,\n",
      "           1.3652e+00,  1.5580e+00,  7.0019e-01,  1.4920e-01, -3.0491e+00],\n",
      "         [-3.8754e-01, -6.4829e-01, -6.2898e-01, -2.0951e+00,  6.1029e-01,\n",
      "           4.9715e-01, -1.3171e+00, -9.5460e-01, -1.4703e-01, -8.1013e-01]],\n",
      "\n",
      "        [[-4.2023e-01,  7.6849e-01, -2.5679e-01, -2.3972e+00,  2.9309e-01,\n",
      "           1.1330e+00, -1.0201e+00,  1.8088e+00,  9.3282e-01, -2.1259e+00],\n",
      "         [ 4.8876e-01, -1.8269e+00, -2.2030e-01, -1.2067e-01, -1.4604e+00,\n",
      "          -2.8896e-01,  4.8998e-01,  7.6315e-01,  2.4287e-01,  1.8642e+00],\n",
      "         [-3.3554e-01, -1.7903e+00,  1.0238e+00,  1.9672e-01, -1.1829e+00,\n",
      "           8.8802e-01,  2.5392e-03,  8.4005e-01,  1.5658e+00,  1.0889e+00]]],\n",
      "       grad_fn=<EmbeddingBackward>) torch.Size([2, 3, 10])\n"
     ]
    }
   ],
   "source": [
    "## Practice 03 ##\n",
    "# construct batch level word embeddings: [\"청년 AI BIGDATA\", \"NLP embedding 실습\"]\n",
    "sents = [['청년', 'AI', 'BIGDATA'],\n",
    "         ['NLP', 'embedding', '실습']]\n",
    "batch_idxs = []\n",
    "for sent in sents:\n",
    "    idxs = []\n",
    "    for word in sent:\n",
    "        idx = # convert word into index\n",
    "        idxs.append(idx)  # append idx to idxs\n",
    "    batch_idxs.append(idxs) # append idxs to batch idx\n",
    "\n",
    "batch_idxs = # convert batch idx to tensor\n",
    "print(batch_idxs, batch_idxs.size()) \n",
    "print('')\n",
    "\n",
    "emb = # convert idxs into word embedding\n",
    "print(emb, emb.size())"
   ]
  }
 ],
 "metadata": {
  "kernelspec": {
   "display_name": "onmt_17",
   "language": "python",
   "name": "onmt_17"
  },
  "language_info": {
   "codemirror_mode": {
    "name": "ipython",
    "version": 3
   },
   "file_extension": ".py",
   "mimetype": "text/x-python",
   "name": "python",
   "nbconvert_exporter": "python",
   "pygments_lexer": "ipython3",
   "version": "3.8.5"
  }
 },
 "nbformat": 4,
 "nbformat_minor": 4
}